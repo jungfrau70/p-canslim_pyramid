{
 "cells": [
  {
   "cell_type": "code",
   "execution_count": 8,
   "id": "a3fb9895-74cd-49a1-b97c-ff523fba4bd7",
   "metadata": {},
   "outputs": [
    {
     "data": {
      "text/html": [
       "<pre style=\"white-space:pre;overflow-x:auto;line-height:normal;font-family:Menlo,'DejaVu Sans Mono',consolas,'Courier New',monospace\"><span style=\"color: #808000; text-decoration-color: #808000; font-weight: bold\">C:\\Users\\speed\\AppData\\Local\\Temp\\ipykernel_19188\\</span><span style=\"color: #808000; text-decoration-color: #808000; font-weight: bold\">3729974898.</span><span style=\"color: #808000; text-decoration-color: #808000; font-weight: bold\">py:</span><span style=\"color: #808000; text-decoration-color: #808000; font-weight: bold\">8</span><span style=\"color: #808000; text-decoration-color: #808000; font-weight: bold\"> DeprecationWarning</span><span style=\"color: #808000; text-decoration-color: #808000\">: The `airflow.operators.python_operator.PythonOperator` class is deprecated. Please use `</span><span style=\"color: #808000; text-decoration-color: #808000\">'airflow.operators.python.PythonOperator'</span><span style=\"color: #808000; text-decoration-color: #808000\">`.</span>\n",
       "</pre>\n"
      ],
      "text/plain": [
       "\u001b[1;33mC:\\Users\\speed\\AppData\\Local\\Temp\\ipykernel_19188\\\u001b[0m\u001b[1;33m3729974898.\u001b[0m\u001b[1;33mpy:\u001b[0m\u001b[1;33m8\u001b[0m\u001b[1;33m DeprecationWarning\u001b[0m\u001b[33m: The `airflow.operators.python_operator.PythonOperator` class is deprecated. Please use `\u001b[0m\u001b[33m'airflow.operators.python.PythonOperator'\u001b[0m\u001b[33m`.\u001b[0m\n"
      ]
     },
     "metadata": {},
     "output_type": "display_data"
    },
    {
     "data": {
      "text/html": [
       "<pre style=\"white-space:pre;overflow-x:auto;line-height:normal;font-family:Menlo,'DejaVu Sans Mono',consolas,'Courier New',monospace\"><span style=\"color: #808000; text-decoration-color: #808000; font-weight: bold\">C:\\Users\\speed\\AppData\\Local\\Temp\\ipykernel_19188\\</span><span style=\"color: #808000; text-decoration-color: #808000; font-weight: bold\">3729974898.</span><span style=\"color: #808000; text-decoration-color: #808000; font-weight: bold\">py:</span><span style=\"color: #808000; text-decoration-color: #808000; font-weight: bold\">41</span><span style=\"color: #808000; text-decoration-color: #808000; font-weight: bold\"> RemovedInAirflow3Warning</span><span style=\"color: #808000; text-decoration-color: #808000\">: Param `schedule_interval` is deprecated and will be removed in a future release. Please use `schedule` instead.</span>\n",
       "</pre>\n"
      ],
      "text/plain": [
       "\u001b[1;33mC:\\Users\\speed\\AppData\\Local\\Temp\\ipykernel_19188\\\u001b[0m\u001b[1;33m3729974898.\u001b[0m\u001b[1;33mpy:\u001b[0m\u001b[1;33m41\u001b[0m\u001b[1;33m RemovedInAirflow3Warning\u001b[0m\u001b[33m: Param `schedule_interval` is deprecated and will be removed in a future release. Please use `schedule` instead.\u001b[0m\n"
      ]
     },
     "metadata": {},
     "output_type": "display_data"
    },
    {
     "data": {
      "text/plain": [
       "<Task(PythonOperator): send_email_every_minute>"
      ]
     },
     "execution_count": 8,
     "metadata": {},
     "output_type": "execute_result"
    }
   ],
   "source": [
    "# Import the necessary modules\n",
    "\n",
    "import datetime as dt\n",
    "import time\n",
    "import smtplib\n",
    "\n",
    "from airflow import DAG\n",
    "from airflow.operators.python_operator import PythonOperator\n",
    "from dateutil.relativedelta import relativedelta\n",
    "\n",
    "\"\"\" datetime util \"\"\"\n",
    "now = dt.datetime.now()\n",
    "lastday = now + relativedelta(months=0, days=-1)\n",
    "firstday_of_this_month = dt.datetime(now.year, now.month, 1)\n",
    "lastday_of_this_month = dt.datetime(now.year, now.month, 1) + relativedelta(months=1, days=-1)\n",
    "firstday_of_last_month = dt.datetime(now.year, now.month, 1) + relativedelta(months=-1, days=0)\n",
    "lastday_of_last_month = dt.datetime(now.year, now.month, 1) + relativedelta(months=0, days=-1)\n",
    "\n",
    "def last_working_day(given_date):\n",
    "    while True:\n",
    "        given_date -= dt.timedelta(days=1)\n",
    "        if given_date.weekday() not in [5,6]:\n",
    "            return given_date\n",
    "        \n",
    "\"\"\" set the download window \"\"\"\n",
    "start_date = \"2017-01-01\"\n",
    "end_date = last_working_day(now).strftime('%Y-%m-%d')\n",
    "\n",
    "# Define the default_args for the DAG\n",
    "default_args = {\n",
    "    'owner': 'you',\n",
    "    'depends_on_past': False,\n",
    "    'start_date': end_date,\n",
    "    'email_on_failure': False,\n",
    "    'email_on_retry': False,\n",
    "    'retries': 1,\n",
    "    'retry_delay': dt.timedelta(minutes=1),\n",
    "}\n",
    "\n",
    "# Define the DAG\n",
    "dag = DAG(\n",
    "    'parallel_tasks',\n",
    "    default_args=default_args,\n",
    "    description='Two parallel tasks: counting in 10 minutes and sending email every minute',\n",
    "    schedule_interval=dt.timedelta(minutes=1),\n",
    ")\n",
    "\n",
    "# Define the first task, counting in 10 minutes\n",
    "def count_in_10_minutes():\n",
    "    for i in range(10):\n",
    "        print(f'{i + 1} minutes have passed.')\n",
    "        time.sleep(60)\n",
    "\n",
    "count_in_10_minutes_task = PythonOperator(\n",
    "    task_id='count_in_10_minutes',\n",
    "    python_callable=count_in_10_minutes,\n",
    "    dag=dag,\n",
    ")\n",
    "\n",
    "# Define the second task, sending email every minute\n",
    "def send_email_every_minute():\n",
    "    # Define the SMTP server and login credentials\n",
    "    smtp_server = \"smtp.gmail.com\"\n",
    "    port = 587\n",
    "    login = \"youremail@gmail.com\"\n",
    "    password = \"yourpassword\"\n",
    "\n",
    "    # Connect to the SMTP server\n",
    "    server = smtplib.SMTP(smtp_server, port)\n",
    "    server.ehlo()\n",
    "    server.starttls()\n",
    "    server.login(login, password)\n",
    "\n",
    "    # Define the recipient email address and subject\n",
    "    to = \"recipient@email.com\"\n",
    "    subject = \"Minutely Email\"\n",
    "\n",
    "    # Send the email every minute\n",
    "    for i in range(10):\n",
    "        message = f\"This is minute {i + 1} of the email sequence.\"\n",
    "        msg = f\"Subject: {subject}\\n\\n{message}\"\n",
    "        server.sendmail(login, to, msg)\n",
    "        time.sleep(60)\n",
    "\n",
    "    # Close the SMTP connection\n",
    "    server.quit()\n",
    "\n",
    "send_email_every_minute_task = PythonOperator(\n",
    "    task_id='send_email_every_minute',\n",
    "    python_callable=send_email_every_minute,\n",
    "    dag=dag,\n",
    ")\n",
    "\n",
    "# Set the task order\n",
    "count_in_10_minutes_task >> send_email_every_minute_task\n"
   ]
  },
  {
   "cell_type": "code",
   "execution_count": null,
   "id": "70553aa7-3e94-47d5-8ad0-8c6c6266b1fa",
   "metadata": {},
   "outputs": [],
   "source": []
  }
 ],
 "metadata": {
  "kernelspec": {
   "display_name": "Python 3 (ipykernel)",
   "language": "python",
   "name": "python3"
  },
  "language_info": {
   "codemirror_mode": {
    "name": "ipython",
    "version": 3
   },
   "file_extension": ".py",
   "mimetype": "text/x-python",
   "name": "python",
   "nbconvert_exporter": "python",
   "pygments_lexer": "ipython3",
   "version": "3.10.7"
  }
 },
 "nbformat": 4,
 "nbformat_minor": 5
}
