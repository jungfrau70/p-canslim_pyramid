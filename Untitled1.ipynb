{
 "cells": [
  {
   "cell_type": "code",
   "execution_count": 6,
   "id": "a3fb9895-74cd-49a1-b97c-ff523fba4bd7",
   "metadata": {},
   "outputs": [
    {
     "data": {
      "text/html": [
       "<pre style=\"white-space:pre;overflow-x:auto;line-height:normal;font-family:Menlo,'DejaVu Sans Mono',consolas,'Courier New',monospace\"><span style=\"color: #808000; text-decoration-color: #808000; font-weight: bold\">C:\\Users\\speed\\AppData\\Local\\Temp\\ipykernel_19188\\</span><span style=\"color: #808000; text-decoration-color: #808000; font-weight: bold\">2510951351.</span><span style=\"color: #808000; text-decoration-color: #808000; font-weight: bold\">py:</span><span style=\"color: #808000; text-decoration-color: #808000; font-weight: bold\">7</span><span style=\"color: #808000; text-decoration-color: #808000; font-weight: bold\"> DeprecationWarning</span><span style=\"color: #808000; text-decoration-color: #808000\">: The `airflow.operators.python_operator.PythonOperator` class is deprecated. Please use `</span><span style=\"color: #808000; text-decoration-color: #808000\">'airflow.operators.python.PythonOperator'</span><span style=\"color: #808000; text-decoration-color: #808000\">`.</span>\n",
       "</pre>\n"
      ],
      "text/plain": [
       "\u001b[1;33mC:\\Users\\speed\\AppData\\Local\\Temp\\ipykernel_19188\\\u001b[0m\u001b[1;33m2510951351.\u001b[0m\u001b[1;33mpy:\u001b[0m\u001b[1;33m7\u001b[0m\u001b[1;33m DeprecationWarning\u001b[0m\u001b[33m: The `airflow.operators.python_operator.PythonOperator` class is deprecated. Please use `\u001b[0m\u001b[33m'airflow.operators.python.PythonOperator'\u001b[0m\u001b[33m`.\u001b[0m\n"
      ]
     },
     "metadata": {},
     "output_type": "display_data"
    },
    {
     "data": {
      "text/html": [
       "<pre style=\"white-space:pre;overflow-x:auto;line-height:normal;font-family:Menlo,'DejaVu Sans Mono',consolas,'Courier New',monospace\"><span style=\"color: #808000; text-decoration-color: #808000; font-weight: bold\">C:\\Users\\speed\\AppData\\Local\\Temp\\ipykernel_19188\\</span><span style=\"color: #808000; text-decoration-color: #808000; font-weight: bold\">2510951351.</span><span style=\"color: #808000; text-decoration-color: #808000; font-weight: bold\">py:</span><span style=\"color: #808000; text-decoration-color: #808000; font-weight: bold\">40</span><span style=\"color: #808000; text-decoration-color: #808000; font-weight: bold\"> RemovedInAirflow3Warning</span><span style=\"color: #808000; text-decoration-color: #808000\">: Param `schedule_interval` is deprecated and will be removed in a future release. Please use `schedule` instead.</span>\n",
       "</pre>\n"
      ],
      "text/plain": [
       "\u001b[1;33mC:\\Users\\speed\\AppData\\Local\\Temp\\ipykernel_19188\\\u001b[0m\u001b[1;33m2510951351.\u001b[0m\u001b[1;33mpy:\u001b[0m\u001b[1;33m40\u001b[0m\u001b[1;33m RemovedInAirflow3Warning\u001b[0m\u001b[33m: Param `schedule_interval` is deprecated and will be removed in a future release. Please use `schedule` instead.\u001b[0m\n"
      ]
     },
     "metadata": {},
     "output_type": "display_data"
    },
    {
     "ename": "TypeError",
     "evalue": "unsupported type for timedelta seconds component: relativedelta",
     "output_type": "error",
     "traceback": [
      "\u001b[1;31m---------------------------------------------------------------------------\u001b[0m",
      "\u001b[1;31mTypeError\u001b[0m                                 Traceback (most recent call last)",
      "Cell \u001b[1;32mIn[6], line 53\u001b[0m\n\u001b[0;32m     50\u001b[0m         \u001b[38;5;28mprint\u001b[39m(\u001b[38;5;124mf\u001b[39m\u001b[38;5;124m'\u001b[39m\u001b[38;5;132;01m{\u001b[39;00mi\u001b[38;5;250m \u001b[39m\u001b[38;5;241m+\u001b[39m\u001b[38;5;250m \u001b[39m\u001b[38;5;241m1\u001b[39m\u001b[38;5;132;01m}\u001b[39;00m\u001b[38;5;124m minutes have passed.\u001b[39m\u001b[38;5;124m'\u001b[39m)\n\u001b[0;32m     51\u001b[0m         time\u001b[38;5;241m.\u001b[39msleep(\u001b[38;5;241m60\u001b[39m)\n\u001b[1;32m---> 53\u001b[0m count_in_10_minutes_task \u001b[38;5;241m=\u001b[39m \u001b[43mPythonOperator\u001b[49m\u001b[43m(\u001b[49m\n\u001b[0;32m     54\u001b[0m \u001b[43m    \u001b[49m\u001b[43mtask_id\u001b[49m\u001b[38;5;241;43m=\u001b[39;49m\u001b[38;5;124;43m'\u001b[39;49m\u001b[38;5;124;43mcount_in_10_minutes\u001b[39;49m\u001b[38;5;124;43m'\u001b[39;49m\u001b[43m,\u001b[49m\n\u001b[0;32m     55\u001b[0m \u001b[43m    \u001b[49m\u001b[43mpython_callable\u001b[49m\u001b[38;5;241;43m=\u001b[39;49m\u001b[43mcount_in_10_minutes\u001b[49m\u001b[43m,\u001b[49m\n\u001b[0;32m     56\u001b[0m \u001b[43m    \u001b[49m\u001b[43mdag\u001b[49m\u001b[38;5;241;43m=\u001b[39;49m\u001b[43mdag\u001b[49m\u001b[43m,\u001b[49m\n\u001b[0;32m     57\u001b[0m \u001b[43m)\u001b[49m\n\u001b[0;32m     59\u001b[0m \u001b[38;5;66;03m# Define the second task, sending email every minute\u001b[39;00m\n\u001b[0;32m     60\u001b[0m \u001b[38;5;28;01mdef\u001b[39;00m \u001b[38;5;21msend_email_every_minute\u001b[39m():\n\u001b[0;32m     61\u001b[0m     \u001b[38;5;66;03m# Define the SMTP server and login credentials\u001b[39;00m\n",
      "File \u001b[1;32mD:\\work\\p-canslim_pyramid\\venv\\lib\\site-packages\\airflow\\models\\baseoperator.py:394\u001b[0m, in \u001b[0;36mBaseOperatorMeta._apply_defaults.<locals>.apply_defaults\u001b[1;34m(self, *args, **kwargs)\u001b[0m\n\u001b[0;32m    391\u001b[0m     \u001b[38;5;28mself\u001b[39m\u001b[38;5;241m.\u001b[39m_BaseOperator__init_kwargs \u001b[38;5;241m=\u001b[39m {}\n\u001b[0;32m    392\u001b[0m \u001b[38;5;28mself\u001b[39m\u001b[38;5;241m.\u001b[39m_BaseOperator__from_mapped \u001b[38;5;241m=\u001b[39m instantiated_from_mapped\n\u001b[1;32m--> 394\u001b[0m result \u001b[38;5;241m=\u001b[39m func(\u001b[38;5;28mself\u001b[39m, \u001b[38;5;241m*\u001b[39m\u001b[38;5;241m*\u001b[39mkwargs, default_args\u001b[38;5;241m=\u001b[39mdefault_args)\n\u001b[0;32m    396\u001b[0m \u001b[38;5;66;03m# Store the args passed to init -- we need them to support task.map serialzation!\u001b[39;00m\n\u001b[0;32m    397\u001b[0m \u001b[38;5;28mself\u001b[39m\u001b[38;5;241m.\u001b[39m_BaseOperator__init_kwargs\u001b[38;5;241m.\u001b[39mupdate(kwargs)  \u001b[38;5;66;03m# type: ignore\u001b[39;00m\n",
      "File \u001b[1;32mD:\\work\\p-canslim_pyramid\\venv\\lib\\site-packages\\airflow\\operators\\python.py:160\u001b[0m, in \u001b[0;36mPythonOperator.__init__\u001b[1;34m(self, python_callable, op_args, op_kwargs, templates_dict, templates_exts, show_return_value_in_logs, **kwargs)\u001b[0m\n\u001b[0;32m    154\u001b[0m     warnings\u001b[38;5;241m.\u001b[39mwarn(\n\u001b[0;32m    155\u001b[0m         \u001b[38;5;124m\"\u001b[39m\u001b[38;5;124mprovide_context is deprecated as of 2.0 and is no longer required\u001b[39m\u001b[38;5;124m\"\u001b[39m,\n\u001b[0;32m    156\u001b[0m         RemovedInAirflow3Warning,\n\u001b[0;32m    157\u001b[0m         stacklevel\u001b[38;5;241m=\u001b[39m\u001b[38;5;241m2\u001b[39m,\n\u001b[0;32m    158\u001b[0m     )\n\u001b[0;32m    159\u001b[0m     kwargs\u001b[38;5;241m.\u001b[39mpop(\u001b[38;5;124m\"\u001b[39m\u001b[38;5;124mprovide_context\u001b[39m\u001b[38;5;124m\"\u001b[39m, \u001b[38;5;28;01mNone\u001b[39;00m)\n\u001b[1;32m--> 160\u001b[0m \u001b[38;5;28msuper\u001b[39m()\u001b[38;5;241m.\u001b[39m\u001b[38;5;21m__init__\u001b[39m(\u001b[38;5;241m*\u001b[39m\u001b[38;5;241m*\u001b[39mkwargs)\n\u001b[0;32m    161\u001b[0m \u001b[38;5;28;01mif\u001b[39;00m \u001b[38;5;129;01mnot\u001b[39;00m callable(python_callable):\n\u001b[0;32m    162\u001b[0m     \u001b[38;5;28;01mraise\u001b[39;00m AirflowException(\u001b[38;5;124m\"\u001b[39m\u001b[38;5;124m`python_callable` param must be callable\u001b[39m\u001b[38;5;124m\"\u001b[39m)\n",
      "File \u001b[1;32mD:\\work\\p-canslim_pyramid\\venv\\lib\\site-packages\\airflow\\models\\baseoperator.py:394\u001b[0m, in \u001b[0;36mBaseOperatorMeta._apply_defaults.<locals>.apply_defaults\u001b[1;34m(self, *args, **kwargs)\u001b[0m\n\u001b[0;32m    391\u001b[0m     \u001b[38;5;28mself\u001b[39m\u001b[38;5;241m.\u001b[39m_BaseOperator__init_kwargs \u001b[38;5;241m=\u001b[39m {}\n\u001b[0;32m    392\u001b[0m \u001b[38;5;28mself\u001b[39m\u001b[38;5;241m.\u001b[39m_BaseOperator__from_mapped \u001b[38;5;241m=\u001b[39m instantiated_from_mapped\n\u001b[1;32m--> 394\u001b[0m result \u001b[38;5;241m=\u001b[39m func(\u001b[38;5;28mself\u001b[39m, \u001b[38;5;241m*\u001b[39m\u001b[38;5;241m*\u001b[39mkwargs, default_args\u001b[38;5;241m=\u001b[39mdefault_args)\n\u001b[0;32m    396\u001b[0m \u001b[38;5;66;03m# Store the args passed to init -- we need them to support task.map serialzation!\u001b[39;00m\n\u001b[0;32m    397\u001b[0m \u001b[38;5;28mself\u001b[39m\u001b[38;5;241m.\u001b[39m_BaseOperator__init_kwargs\u001b[38;5;241m.\u001b[39mupdate(kwargs)  \u001b[38;5;66;03m# type: ignore\u001b[39;00m\n",
      "File \u001b[1;32mD:\\work\\p-canslim_pyramid\\venv\\lib\\site-packages\\airflow\\models\\baseoperator.py:829\u001b[0m, in \u001b[0;36mBaseOperator.__init__\u001b[1;34m(self, task_id, owner, email, email_on_retry, email_on_failure, retries, retry_delay, retry_exponential_backoff, max_retry_delay, start_date, end_date, depends_on_past, ignore_first_depends_on_past, wait_for_downstream, dag, params, default_args, priority_weight, weight_rule, queue, pool, pool_slots, sla, execution_timeout, on_execute_callback, on_failure_callback, on_success_callback, on_retry_callback, pre_execute, post_execute, trigger_rule, resources, run_as_user, task_concurrency, max_active_tis_per_dag, executor_config, do_xcom_push, inlets, outlets, task_group, doc, doc_md, doc_json, doc_yaml, doc_rst, **kwargs)\u001b[0m\n\u001b[0;32m    826\u001b[0m \u001b[38;5;28;01mif\u001b[39;00m wait_for_downstream:\n\u001b[0;32m    827\u001b[0m     \u001b[38;5;28mself\u001b[39m\u001b[38;5;241m.\u001b[39mdepends_on_past \u001b[38;5;241m=\u001b[39m \u001b[38;5;28;01mTrue\u001b[39;00m\n\u001b[1;32m--> 829\u001b[0m \u001b[38;5;28mself\u001b[39m\u001b[38;5;241m.\u001b[39mretry_delay \u001b[38;5;241m=\u001b[39m \u001b[43mcoerce_timedelta\u001b[49m\u001b[43m(\u001b[49m\u001b[43mretry_delay\u001b[49m\u001b[43m,\u001b[49m\u001b[43m \u001b[49m\u001b[43mkey\u001b[49m\u001b[38;5;241;43m=\u001b[39;49m\u001b[38;5;124;43m\"\u001b[39;49m\u001b[38;5;124;43mretry_delay\u001b[39;49m\u001b[38;5;124;43m\"\u001b[39;49m\u001b[43m)\u001b[49m\n\u001b[0;32m    830\u001b[0m \u001b[38;5;28mself\u001b[39m\u001b[38;5;241m.\u001b[39mretry_exponential_backoff \u001b[38;5;241m=\u001b[39m retry_exponential_backoff\n\u001b[0;32m    831\u001b[0m \u001b[38;5;28mself\u001b[39m\u001b[38;5;241m.\u001b[39mmax_retry_delay \u001b[38;5;241m=\u001b[39m (\n\u001b[0;32m    832\u001b[0m     max_retry_delay\n\u001b[0;32m    833\u001b[0m     \u001b[38;5;28;01mif\u001b[39;00m max_retry_delay \u001b[38;5;129;01mis\u001b[39;00m \u001b[38;5;28;01mNone\u001b[39;00m\n\u001b[0;32m    834\u001b[0m     \u001b[38;5;28;01melse\u001b[39;00m coerce_timedelta(max_retry_delay, key\u001b[38;5;241m=\u001b[39m\u001b[38;5;124m\"\u001b[39m\u001b[38;5;124mmax_retry_delay\u001b[39m\u001b[38;5;124m\"\u001b[39m)\n\u001b[0;32m    835\u001b[0m )\n",
      "File \u001b[1;32mD:\\work\\p-canslim_pyramid\\venv\\lib\\site-packages\\airflow\\models\\baseoperator.py:127\u001b[0m, in \u001b[0;36mcoerce_timedelta\u001b[1;34m(value, key)\u001b[0m\n\u001b[0;32m    125\u001b[0m     \u001b[38;5;28;01mreturn\u001b[39;00m value\n\u001b[0;32m    126\u001b[0m logger\u001b[38;5;241m.\u001b[39mdebug(\u001b[38;5;124m\"\u001b[39m\u001b[38;5;132;01m%s\u001b[39;00m\u001b[38;5;124m isn\u001b[39m\u001b[38;5;124m'\u001b[39m\u001b[38;5;124mt a timedelta object, assuming secs\u001b[39m\u001b[38;5;124m\"\u001b[39m, key)\n\u001b[1;32m--> 127\u001b[0m \u001b[38;5;28;01mreturn\u001b[39;00m \u001b[43mtimedelta\u001b[49m\u001b[43m(\u001b[49m\u001b[43mseconds\u001b[49m\u001b[38;5;241;43m=\u001b[39;49m\u001b[43mvalue\u001b[49m\u001b[43m)\u001b[49m\n",
      "\u001b[1;31mTypeError\u001b[0m: unsupported type for timedelta seconds component: relativedelta"
     ]
    }
   ],
   "source": [
    "# Import the necessary modules\n",
    "import datetime as dt\n",
    "import time\n",
    "import smtplib\n",
    "\n",
    "from airflow import DAG\n",
    "from airflow.operators.python_operator import PythonOperator\n",
    "from dateutil.relativedelta import relativedelta\n",
    "\n",
    "\"\"\" datetime util \"\"\"\n",
    "now = dt.datetime.now()\n",
    "lastday = now + relativedelta(months=0, days=-1)\n",
    "firstday_of_this_month = dt.datetime(now.year, now.month, 1)\n",
    "lastday_of_this_month = dt.datetime(now.year, now.month, 1) + relativedelta(months=1, days=-1)\n",
    "firstday_of_last_month = dt.datetime(now.year, now.month, 1) + relativedelta(months=-1, days=0)\n",
    "lastday_of_last_month = dt.datetime(now.year, now.month, 1) + relativedelta(months=0, days=-1)\n",
    "\n",
    "def last_working_day(given_date):\n",
    "    while True:\n",
    "        given_date -= relativedelta(days=1)\n",
    "        if given_date.weekday() not in [5,6]:\n",
    "            return given_date\n",
    "        \n",
    "\"\"\" set the download window \"\"\"\n",
    "start_date = \"2017-01-01\"\n",
    "end_date = last_working_day(now).strftime('%Y-%m-%d')\n",
    "\n",
    "# Define the default_args for the DAG\n",
    "default_args = {\n",
    "    'owner': 'you',\n",
    "    'depends_on_past': False,\n",
    "    'start_date': end_date,\n",
    "    'email_on_failure': False,\n",
    "    'email_on_retry': False,\n",
    "    'retries': 1,\n",
    "    'retry_delay': relativedelta(minutes=1),\n",
    "}\n",
    "\n",
    "# Define the DAG\n",
    "dag = DAG(\n",
    "    'parallel_tasks',\n",
    "    default_args=default_args,\n",
    "    description='Two parallel tasks: counting in 10 minutes and sending email every minute',\n",
    "    schedule_interval=relativedelta(minutes=1),\n",
    ")\n",
    "\n",
    "# Define the first task, counting in 10 minutes\n",
    "def count_in_10_minutes():\n",
    "    for i in range(10):\n",
    "        print(f'{i + 1} minutes have passed.')\n",
    "        time.sleep(60)\n",
    "\n",
    "count_in_10_minutes_task = PythonOperator(\n",
    "    task_id='count_in_10_minutes',\n",
    "    python_callable=count_in_10_minutes,\n",
    "    dag=dag,\n",
    ")\n",
    "\n",
    "# Define the second task, sending email every minute\n",
    "def send_email_every_minute():\n",
    "    # Define the SMTP server and login credentials\n",
    "    smtp_server = \"smtp.gmail.com\"\n",
    "    port = 587\n",
    "    login = \"youremail@gmail.com\"\n",
    "    password = \"yourpassword\"\n",
    "\n",
    "    # Connect to the SMTP server\n",
    "    server = smtplib.SMTP(smtp_server, port)\n",
    "    server.ehlo()\n",
    "    server.starttls()\n",
    "    server.login(login, password)\n",
    "\n",
    "    # Define the recipient email address and subject\n",
    "    to = \"recipient@email.com\"\n",
    "    subject = \"Minutely Email\"\n",
    "\n",
    "    # Send the email every minute\n",
    "    for i in range(10):\n",
    "        message = f\"This is minute {i + 1} of the email sequence.\"\n",
    "        msg = f\"Subject: {subject}\\n\\n{message}\"\n",
    "        server.sendmail(login, to, msg)\n",
    "        time.sleep(60)\n",
    "\n",
    "    # Close the SMTP connection\n",
    "    server.quit()\n",
    "\n",
    "send_email_every_minute_task = PythonOperator(\n",
    "    task_id='send_email_every_minute',\n",
    "    python_callable=send_email_every_minute,\n",
    "    dag=dag,\n",
    ")\n",
    "\n",
    "# Set the task order\n",
    "count_in_10_minutes_task >> send_email_every_minute_task\n"
   ]
  },
  {
   "cell_type": "code",
   "execution_count": null,
   "id": "70553aa7-3e94-47d5-8ad0-8c6c6266b1fa",
   "metadata": {},
   "outputs": [],
   "source": []
  }
 ],
 "metadata": {
  "kernelspec": {
   "display_name": "Python 3 (ipykernel)",
   "language": "python",
   "name": "python3"
  },
  "language_info": {
   "codemirror_mode": {
    "name": "ipython",
    "version": 3
   },
   "file_extension": ".py",
   "mimetype": "text/x-python",
   "name": "python",
   "nbconvert_exporter": "python",
   "pygments_lexer": "ipython3",
   "version": "3.10.7"
  }
 },
 "nbformat": 4,
 "nbformat_minor": 5
}
