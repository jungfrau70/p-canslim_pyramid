{
 "cells": [
  {
   "cell_type": "code",
   "execution_count": 1,
   "id": "0428a3f2-da30-406e-b723-bb6457edf3ec",
   "metadata": {},
   "outputs": [],
   "source": [
    "import os\n",
    "import glob\n",
    "import datetime as dt\n",
    "import numpy as np\n",
    "import pandas as pd\n",
    "import matplotlib.pyplot as plt\n",
    "import yfinance as yf\n",
    "yf.pdr_override() # <== that's all it takes :-)\n",
    "\n",
    "from concurrent import futures\n",
    "from dateutil.relativedelta import relativedelta\n",
    "from pandas_datareader import data as pdr\n",
    "from scipy.stats import gaussian_kde\n",
    "\n",
    "\"\"\" set output directory \"\"\"\n",
    "data_dir = \"./data\"\n",
    "os.makedirs(data_dir, exist_ok=True)"
   ]
  },
  {
   "cell_type": "code",
   "execution_count": 2,
   "id": "6104eb3d-1387-42ea-b5a1-82a6fb3041a3",
   "metadata": {},
   "outputs": [],
   "source": [
    "\"\"\" datetime util \"\"\"\n",
    "now = dt.datetime.now()\n",
    "lastday = now + relativedelta(months=0, days=-1)\n",
    "firstday_of_this_month = dt.datetime(now.year, now.month, 1)\n",
    "lastday_of_this_month = dt.datetime(now.year, now.month, 1) + relativedelta(months=1, days=-1)\n",
    "firstday_of_last_month = dt.datetime(now.year, now.month, 1) + relativedelta(months=-1, days=0)\n",
    "lastday_of_last_month = dt.datetime(now.year, now.month, 1) + relativedelta(months=0, days=-1)"
   ]
  },
  {
   "cell_type": "code",
   "execution_count": 3,
   "id": "32b2e723-6542-46e3-8788-f4b34087982c",
   "metadata": {},
   "outputs": [],
   "source": [
    "\"\"\" set the download window \"\"\"\n",
    "start_date = \"2017-01-01\"\n",
    "end_date = lastday.strftime('%Y-%m-%d')"
   ]
  },
  {
   "cell_type": "markdown",
   "id": "059a6d7b-157c-4f35-8631-ea5234b8fe28",
   "metadata": {},
   "source": [
    "# Find Most Attractive Stocks"
   ]
  },
  {
   "cell_type": "code",
   "execution_count": 4,
   "id": "3cce4da4-2c05-4cc0-800b-4ae5ab6636f1",
   "metadata": {},
   "outputs": [],
   "source": [
    "stock_list = f\"{data_dir}/SP500_{end_date}.csv\""
   ]
  },
  {
   "cell_type": "code",
   "execution_count": null,
   "id": "e6b6dd19-54c8-4d88-a836-c832191206e5",
   "metadata": {},
   "outputs": [],
   "source": [
    "\"\"\" set output directory \"\"\"\n",
    "data_dir = \"./data/historicals\"\n",
    "os.makedirs(data_dir, exist_ok=True)"
   ]
  },
  {
   "cell_type": "code",
   "execution_count": 5,
   "id": "5edf8d22-5725-4cf1-b512-53b82725316b",
   "metadata": {},
   "outputs": [
    {
     "name": "stdout",
     "output_type": "stream",
     "text": [
      "./data/SP500_2023-01-16.csv\n"
     ]
    }
   ],
   "source": [
    "!echo $stock_list"
   ]
  },
  {
   "cell_type": "code",
   "execution_count": 6,
   "id": "0bd35745-9851-4b49-8e92-f4e550025013",
   "metadata": {},
   "outputs": [
    {
     "name": "stdout",
     "output_type": "stream",
     "text": [
      "^C\n"
     ]
    }
   ],
   "source": [
    "# Run it in command line\n",
    "!python most_attractive_stocks/findStocks.py --stock_list $stock_list --key \"P6QVC3IFRGHVKGAN\""
   ]
  },
  {
   "cell_type": "code",
   "execution_count": null,
   "id": "f22a9e62-4c71-4818-929b-6b863a8cf125",
   "metadata": {},
   "outputs": [],
   "source": []
  }
 ],
 "metadata": {
  "kernelspec": {
   "display_name": "Python 3 (ipykernel)",
   "language": "python",
   "name": "python3"
  },
  "language_info": {
   "codemirror_mode": {
    "name": "ipython",
    "version": 3
   },
   "file_extension": ".py",
   "mimetype": "text/x-python",
   "name": "python",
   "nbconvert_exporter": "python",
   "pygments_lexer": "ipython3",
   "version": "3.10.9"
  },
  "vscode": {
   "interpreter": {
    "hash": "24676f0744b5e48d2c821389f1ac0377c08ed9314d164825b8f264470ef33595"
   }
  }
 },
 "nbformat": 4,
 "nbformat_minor": 5
}
