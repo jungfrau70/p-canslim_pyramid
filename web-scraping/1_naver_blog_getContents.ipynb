{
 "cells": [
  {
   "cell_type": "markdown",
   "metadata": {},
   "source": [
    "## 네이버 블로그 크롤링\n",
    "\n",
    "\n",
    "## 필요한 라이브러리 설치\n",
    "* 아나콘다 사용시 다음의 프롬프트 창을 열어 conda 명령어로 설치합니다.\n",
    "* pip 사용시 아래에 있는 명령어를 터미널로 설치합니다.\n",
    "<img src=\"https://i.imgur.com/Sar4gdw.jpg\">\n",
    "\n",
    "### Selenium\n",
    "* `conda install -c anaconda selenium`\n",
    "* [Selenium :: Anaconda Cloud](https://anaconda.org/anaconda/selenium)\n",
    "\n",
    "* pip 사용시 : `pip install selenium`\n",
    "\n",
    "### BeautifulSoup\n",
    "* `conda install -c anaconda beautifulsoup4`\n",
    "* [Beautifulsoup4 :: Anaconda Cloud](https://anaconda.org/anaconda/beautifulsoup4)\n",
    "\n",
    "* pip 사용시 : `pip install beautifulsoup4`\n",
    "\n",
    "### tqdm\n",
    "* `conda install -c conda-forge tqdm`\n",
    "* [tqdm/tqdm: A Fast, Extensible Progress Bar for Python and CLI](https://github.com/tqdm/tqdm)\n",
    "* `pip install tqdm`"
   ]
  },
  {
   "cell_type": "code",
   "execution_count": 1,
   "metadata": {
    "scrolled": true
   },
   "outputs": [
    {
     "name": "stderr",
     "output_type": "stream",
     "text": [
      "100%|█████████████████████████████████████████████████████████████████| 715/715 [1:16:14<00:00,  6.40s/it]\n",
      "  0%|                                                                                                                                                                                                                                                                                       | 0/715 [00:00<?, ?it/s]"
     ]
    },
    {
     "name": "stdout",
     "output_type": "stream",
     "text": [
      "4143 4143 4143\n"
     ]
    },
    {
     "name": "stderr",
     "output_type": "stream",
     "text": [
      "100%|███████████████████████████████████████████████████████████████████████████████████████████████████████████████████████████████████████████████████████████████████████████████████████████████████████████████████████████████████████████████████████████████████████████| 715/715 [1:16:18<00:00,  6.40s/it]\n",
      "  0%|                                                                                                                                                                                                                                                                                       | 0/715 [00:00<?, ?it/s]"
     ]
    },
    {
     "name": "stdout",
     "output_type": "stream",
     "text": [
      "4143 4143 4143\n"
     ]
    },
    {
     "name": "stderr",
     "output_type": "stream",
     "text": [
      "100%|███████████████████████████████████████████████████████████████████████████████████████████████████████████████████████████████████████████████████████████████████████████████████████████████████████████████████████████████████████████████████████████████████████████| 715/715 [1:16:35<00:00,  6.43s/it]\n",
      "  0%|                                                                                                                                                                                                                                                                                       | 0/715 [00:00<?, ?it/s]"
     ]
    },
    {
     "name": "stdout",
     "output_type": "stream",
     "text": [
      "4143 4143 4143\n"
     ]
    },
    {
     "name": "stderr",
     "output_type": "stream",
     "text": [
      "100%|███████████████████████████████████████████████████████████████████████████████████████████████████████████████████████████████████████████████████████████████████████████████████████████████████████████████████████████████████████████████████████████████████████████| 715/715 [1:16:16<00:00,  6.40s/it]\n",
      "  0%|                                                                                                                                                                                                                                                                                       | 0/715 [00:00<?, ?it/s]"
     ]
    },
    {
     "name": "stdout",
     "output_type": "stream",
     "text": [
      "4143 4143 4143\n"
     ]
    },
    {
     "name": "stderr",
     "output_type": "stream",
     "text": [
      "100%|███████████████████████████████████████████████████████████████████████████████████████████████████████████████████████████████████████████████████████████████████████████████████████████████████████████████████████████████████████████████████████████████████████████| 715/715 [1:15:59<00:00,  6.38s/it]\n",
      "  0%|                                                                                                                                                                                                                                                                                       | 0/715 [00:00<?, ?it/s]"
     ]
    },
    {
     "name": "stdout",
     "output_type": "stream",
     "text": [
      "4143 4143 4143\n"
     ]
    },
    {
     "name": "stderr",
     "output_type": "stream",
     "text": [
      "100%|███████████████████████████████████████████████████████████████████████████████████████████████████████████████████████████████████████████████████████████████████████████████████████████████████████████████████████████████████████████████████████████████████████████| 715/715 [1:15:46<00:00,  6.36s/it]\n",
      "  0%|                                                                                                                                                                                                                                                                                       | 0/715 [00:00<?, ?it/s]"
     ]
    },
    {
     "name": "stdout",
     "output_type": "stream",
     "text": [
      "4143 4143 4143\n"
     ]
    },
    {
     "name": "stderr",
     "output_type": "stream",
     "text": [
      "100%|███████████████████████████████████████████████████████████████████████████████████████████████████████████████████████████████████████████████████████████████████████████████████████████████████████████████████████████████████████████████████████████████████████████| 715/715 [1:15:44<00:00,  6.36s/it]\n",
      "  0%|                                                                                                                                                                                                                                                                                       | 0/715 [00:00<?, ?it/s]"
     ]
    },
    {
     "name": "stdout",
     "output_type": "stream",
     "text": [
      "4143 4143 4143\n"
     ]
    },
    {
     "name": "stderr",
     "output_type": "stream",
     "text": [
      "100%|███████████████████████████████████████████████████████████████████████████████████████████████████████████████████████████████████████████████████████████████████████████████████████████████████████████████████████████████████████████████████████████████████████████| 715/715 [1:15:50<00:00,  6.36s/it]\n",
      "  0%|                                                                                                                                                                                                                                                                                       | 0/715 [00:00<?, ?it/s]"
     ]
    },
    {
     "name": "stdout",
     "output_type": "stream",
     "text": [
      "4143 4143 4143\n"
     ]
    },
    {
     "name": "stderr",
     "output_type": "stream",
     "text": [
      "100%|███████████████████████████████████████████████████████████████████████████████████████████████████████████████████████████████████████████████████████████████████████████████████████████████████████████████████████████████████████████████████████████████████████████| 715/715 [1:15:58<00:00,  6.38s/it]\n",
      "  0%|                                                                                                                                                                                                                                                                                       | 0/715 [00:00<?, ?it/s]"
     ]
    },
    {
     "name": "stdout",
     "output_type": "stream",
     "text": [
      "4143 4143 4143\n"
     ]
    },
    {
     "name": "stderr",
     "output_type": "stream",
     "text": [
      "100%|███████████████████████████████████████████████████████████████████████████████████████████████████████████████████████████████████████████████████████████████████████████████████████████████████████████████████████████████████████████████████████████████████████████| 715/715 [1:15:49<00:00,  6.36s/it]"
     ]
    },
    {
     "name": "stdout",
     "output_type": "stream",
     "text": [
      "4143 4143 4143\n"
     ]
    },
    {
     "name": "stderr",
     "output_type": "stream",
     "text": [
      "\n"
     ]
    }
   ],
   "source": [
    "def get_postContents(keyword, num_posts, interval):\n",
    "    \n",
    "    titles = []\n",
    "    contents = []\n",
    "    dates = []\n",
    "    soup_titles = []\n",
    "    soup_contents = []\n",
    "    soup_dates = []\n",
    "    post_df = pd.DataFrame(columns=('title', 'content', 'date'))\n",
    "\n",
    "    pages = (num_posts // 7) + 2\n",
    "    \n",
    "    for page in trange(1, pages):\n",
    "        \n",
    "        url = f'https://section.blog.naver.com/Search/Post.nhn?pageNo={page}&rangeType=PERIOD&orderBy=sim&startDate=2019-07-01&endDate=2020-06-30&keyword={keyword}'\n",
    "\n",
    "        # 블로그 페이지로 이동\n",
    "        driver.get(url)\n",
    "        time.sleep(interval)\n",
    "\n",
    "        try:\n",
    "    \n",
    "            # 블로그 페이지로 이동\n",
    "            driver.get(url)\n",
    "            time.sleep(interval)\n",
    "\n",
    "            # 웹 페이지 파싱\n",
    "            soup = bs(driver.page_source, 'html.parser')\n",
    "            soup_titles = soup.find_all('span', attrs={\"class\": \"title\"})\n",
    "            soup_contents = soup.find_all('a', attrs={\"class\": \"text\"})\n",
    "            soup_dates = soup.find_all('span', attrs={\"class\": \"date\"})\n",
    "            \n",
    "            length = min( len(soup_titles), len(soup_contents), len(soup_dates))\n",
    "#             print(length)\n",
    "            \n",
    "            soup_titles = soup_titles[:length]\n",
    "            soup_contents = soup_contents[:length]\n",
    "            soup_dates = soup_dates[:length]\n",
    "            \n",
    "#             print(soup_dates)\n",
    "   \n",
    "            for st, sc, sd in zip(soup_titles, soup_contents, soup_dates):\n",
    "                try:\n",
    "                    title = st.get_text()\n",
    "#                     print(title)\n",
    "                    content = sc.get_text()\n",
    "#                     print(content)\n",
    "                    date = sd.get_text()\n",
    "#                     print(date)\n",
    "                    titles.append(title)\n",
    "                    contents.append(content)  \n",
    "                    dates.append(date)\n",
    "                except:\n",
    "                    pass\n",
    "        except:\n",
    "            pass\n",
    "\n",
    "#     print(\"추려낸 내용을 dataframe 에 저장 한다\")            \n",
    "    print(len(titles), len(contents), len(dates))\n",
    "#     print(contents)\n",
    "    post_df = pd.DataFrame({ \"title\": titles, \"content\": contents, \"date\": dates })\n",
    "#     print(\"dataframe 를 반환한다\")\n",
    "    return post_df\n",
    "\n",
    "\n",
    "def letsfind(keyword):\n",
    "\n",
    "    num_posts = 5000\n",
    "    interval = 3\n",
    "\n",
    "    try:\n",
    "        post_df = get_postContents(keyword, num_posts, interval)\n",
    "        # save to csv\n",
    "        filename = \"./scraps/\" + \"naver-blog-contents_\" + keyword.replace(\" \",\"\") + \".csv\"   \n",
    "        post_df.to_csv(filename, date_format='%Y%m%d', encoding='utf-8-sig')\n",
    "    except:\n",
    "        pass\n",
    "    \n",
    "\n",
    "# 라이브러리 로드\n",
    "##############################################################################################\n",
    "# BeautifulSoup 을 통해 읽어 온 웹페이지를 파싱한다.\n",
    "from bs4 import BeautifulSoup as bs\n",
    "# 크롤링 후 결과를 데이터프레임 형태로 보기 위해 불러온다.\n",
    "import pandas as pd\n",
    "from pandas import read_excel\n",
    "from selenium import webdriver\n",
    "from selenium.webdriver.common.by import By\n",
    "\n",
    "import time\n",
    "from tqdm import trange\n",
    "from selenium import webdriver\n",
    "from selenium.webdriver.chrome.options import Options\n",
    "##############################################################################################\n",
    "\n",
    "# Local\n",
    "options = webdriver.ChromeOptions()\n",
    "options.headless = True\n",
    "options.add_argument(\"window-size=1920x1080\") # 가상화면 크기\n",
    "options.add_argument(\"user-agent=Mozilla/5.0 (Windows NT 10.0; Win64; x64) AppleWebKit/537.36 (KHTML, like Gecko) Chrome/84.0.4147.135 Safari/537.36\")\n",
    "\n",
    "# Docker\n",
    "# options = webdriver.ChromeOptions()\n",
    "# options.headless = True\n",
    "# options.add_argument('--headless')\n",
    "# options.add_argument('--no-sandbox')\n",
    "# options.add_argument('--disable-dev-shm-usage')\n",
    "# options.add_argument(\"window-size=1920x1080\") # 가상화면 크기\n",
    "# options.add_argument(\"user-agent=Mozilla/5.0 (Windows NT 10.0; Win64; x64) AppleWebKit/537.36 (KHTML, like Gecko) Chrome/84.0.4147.135 Safari/537.36\")\n",
    "\n",
    "# 크롬 드라이버 로드한다.\n",
    "driver = webdriver.Chrome(options=options)\n",
    "# 암묵적으로 웹 자원 로드를 위해 3초까지 기다려 준다.\n",
    "driver.implicitly_wait(5)\n",
    "# 화면을 최대로 키운다\n",
    "driver.maximize_window()\n",
    "\n",
    "############################################################################################\n",
    "\n",
    "keywords = ['외식', '식사', '메뉴', '식당', '레스토랑', '가성비', '트렌드', '배달', '맛집', '비대면']\n",
    "\n",
    "for keyword in keywords:\n",
    "    letsfind(keyword)"
   ]
  },
  {
   "cell_type": "code",
   "execution_count": null,
   "metadata": {},
   "outputs": [],
   "source": []
  }
 ],
 "metadata": {
  "kernelspec": {
   "display_name": "Python 3",
   "language": "python",
   "name": "python3"
  },
  "language_info": {
   "codemirror_mode": {
    "name": "ipython",
    "version": 3
   },
   "file_extension": ".py",
   "mimetype": "text/x-python",
   "name": "python",
   "nbconvert_exporter": "python",
   "pygments_lexer": "ipython3",
   "version": "3.8.3"
  },
  "varInspector": {
   "cols": {
    "lenName": 16,
    "lenType": 16,
    "lenVar": 40
   },
   "kernels_config": {
    "python": {
     "delete_cmd_postfix": "",
     "delete_cmd_prefix": "del ",
     "library": "var_list.py",
     "varRefreshCmd": "print(var_dic_list())"
    },
    "r": {
     "delete_cmd_postfix": ") ",
     "delete_cmd_prefix": "rm(",
     "library": "var_list.r",
     "varRefreshCmd": "cat(var_dic_list()) "
    }
   },
   "types_to_exclude": [
    "module",
    "function",
    "builtin_function_or_method",
    "instance",
    "_Feature"
   ],
   "window_display": false
  }
 },
 "nbformat": 4,
 "nbformat_minor": 2
}
