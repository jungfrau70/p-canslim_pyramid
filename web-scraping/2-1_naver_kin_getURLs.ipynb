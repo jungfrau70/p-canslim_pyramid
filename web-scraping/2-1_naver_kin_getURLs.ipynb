{
 "cells": [
  {
   "cell_type": "markdown",
   "metadata": {},
   "source": [
    "## 네이버 지식인 크롤링\n",
    "\n",
    "\n",
    "## 필요한 라이브러리 설치\n",
    "* 아나콘다 사용시 다음의 프롬프트 창을 열어 conda 명령어로 설치합니다.\n",
    "* pip 사용시 아래에 있는 명령어를 터미널로 설치합니다.\n",
    "<img src=\"https://i.imgur.com/Sar4gdw.jpg\">\n",
    "\n",
    "### Selenium\n",
    "* `conda install -c anaconda selenium`\n",
    "* [Selenium :: Anaconda Cloud](https://anaconda.org/anaconda/selenium)\n",
    "\n",
    "* pip 사용시 : `pip install selenium`\n",
    "\n",
    "### BeautifulSoup\n",
    "* `conda install -c anaconda beautifulsoup4`\n",
    "* [Beautifulsoup4 :: Anaconda Cloud](https://anaconda.org/anaconda/beautifulsoup4)\n",
    "\n",
    "* pip 사용시 : `pip install beautifulsoup4`\n",
    "\n",
    "### tqdm\n",
    "* `conda install -c conda-forge tqdm`\n",
    "* [tqdm/tqdm: A Fast, Extensible Progress Bar for Python and CLI](https://github.com/tqdm/tqdm)\n",
    "* `pip install tqdm`"
   ]
  },
  {
   "cell_type": "code",
   "execution_count": 1,
   "metadata": {
    "scrolled": true
   },
   "outputs": [
    {
     "name": "stderr",
     "output_type": "stream",
     "text": [
      "100%|███████████████████████████████████████████████████████████████████| 500/500 [05:19<00:00,  1.57it/s]\n",
      "100%|███████████████████████████████████████████████████████████████████| 500/500 [05:18<00:00,  1.57it/s]\n",
      "100%|███████████████████████████████████████████████████████████████████| 500/500 [05:19<00:00,  1.57it/s]\n",
      "100%|███████████████████████████████████████████████████████████████████| 500/500 [05:18<00:00,  1.57it/s]\n",
      "100%|███████████████████████████████████████████████████████████████████| 500/500 [05:15<00:00,  1.58it/s]\n",
      "100%|███████████████████████████████████████████████████████████████████| 500/500 [05:19<00:00,  1.57it/s]\n",
      "100%|███████████████████████████████████████████████████████████████████| 500/500 [05:14<00:00,  1.59it/s]\n",
      "100%|███████████████████████████████████████████████████████████████████| 500/500 [05:18<00:00,  1.57it/s]\n",
      "100%|███████████████████████████████████████████████████████████████████| 500/500 [05:20<00:00,  1.56it/s]\n",
      "100%|███████████████████████████████████████████████████████████████████| 500/500 [05:20<00:00,  1.56it/s]\n"
     ]
    }
   ],
   "source": [
    "from bs4 import BeautifulSoup as bs\n",
    "import pandas as pd\n",
    "from selenium import webdriver\n",
    "from selenium.webdriver.common.by import By\n",
    "\n",
    "import time\n",
    "from tqdm import trange\n",
    "from pandas import read_excel\n",
    "\n",
    "options = webdriver.ChromeOptions()\n",
    "options.headless = True\n",
    "options.add_argument(\"window-size=1920x1080\") # 가상화면 크기\n",
    "options.add_argument(\"user-agent=Mozilla/5.0 (Windows NT 10.0; Win64; x64) AppleWebKit/537.36 (KHTML, like Gecko) Chrome/84.0.4147.135 Safari/537.36\")\n",
    "\n",
    "keywords = ['외식', '식사', '메뉴', '식당', '레스토랑', '가성비', '트렌드', '배달', '맛집', '비대면']\n",
    "\n",
    "driver = webdriver.Chrome(options=options)\n",
    "\n",
    "interval = 4\n",
    "def get_postURLs(keyword, pnum):\n",
    "\n",
    "    url = f\"https://m.kin.naver.com/mobile/search/searchList.nhn?cs=utf8&query={keyword}&startDate=2019-07-01&endDate=2020-06-30\"\n",
    "    \n",
    "    try:\n",
    "        # 키워드 지식인 검색\n",
    "        driver.get(url)\n",
    "        time.sleep(interval)\n",
    "        \n",
    "        # Scrap할 페이지 수만큼 열기\n",
    "        pages = pnum // 20\n",
    "        for i in trange(pages): # 페이지별 20개 Posts\n",
    "            try:\n",
    "                driver.find_element_by_xpath(\"//*[@id='moreContainer']/div/a[1]\").click()\n",
    "                time.sleep(interval)\n",
    "            except:\n",
    "                continue\n",
    "    except:\n",
    "        print (keyword_url)\n",
    "\n",
    "    # postURL 뒷부분 스크랩\n",
    "    soup = bs(driver.page_source, 'html.parser')\n",
    "    posts = soup.find_all('div', attrs={\"class\":\"text_area\"})\n",
    "\n",
    "    # 온전한 postURL 만들기\n",
    "    post_base_url = \"https://m.kin.naver.com\"\n",
    "    post_urls = []\n",
    "\n",
    "    for post in posts:\n",
    "        post_url = post_base_url + post.find('a').get('href')\n",
    "        post_urls.append(post_url)\n",
    "\n",
    "    df_postURLs = pd.DataFrame({\"url\": post_urls})\n",
    "    \n",
    "    return df_postURLs\n",
    "\n",
    "# 지식인 키워드 검색 Main 호출\n",
    "pnum = 10000\n",
    "for keyword in keywords:\n",
    "    try:\n",
    "        df_postURLs = get_postURLs(keyword, pnum)\n",
    "        filename = \"./urls/\" + \"kin-posts_\" + keyword.replace(\" \",\"\") + \".csv\"\n",
    "        df_postURLs.to_csv(filename, index=False)\n",
    "    except:\n",
    "        continue\n",
    "\n",
    "driver.close()\n",
    "driver.quit()\n",
    "    "
   ]
  },
  {
   "cell_type": "code",
   "execution_count": null,
   "metadata": {},
   "outputs": [],
   "source": []
  }
 ],
 "metadata": {
  "kernelspec": {
   "display_name": "Python 3",
   "language": "python",
   "name": "python3"
  },
  "language_info": {
   "codemirror_mode": {
    "name": "ipython",
    "version": 3
   },
   "file_extension": ".py",
   "mimetype": "text/x-python",
   "name": "python",
   "nbconvert_exporter": "python",
   "pygments_lexer": "ipython3",
   "version": "3.8.3"
  },
  "varInspector": {
   "cols": {
    "lenName": 16,
    "lenType": 16,
    "lenVar": 40
   },
   "kernels_config": {
    "python": {
     "delete_cmd_postfix": "",
     "delete_cmd_prefix": "del ",
     "library": "var_list.py",
     "varRefreshCmd": "print(var_dic_list())"
    },
    "r": {
     "delete_cmd_postfix": ") ",
     "delete_cmd_prefix": "rm(",
     "library": "var_list.r",
     "varRefreshCmd": "cat(var_dic_list()) "
    }
   },
   "types_to_exclude": [
    "module",
    "function",
    "builtin_function_or_method",
    "instance",
    "_Feature"
   ],
   "window_display": false
  }
 },
 "nbformat": 4,
 "nbformat_minor": 2
}
