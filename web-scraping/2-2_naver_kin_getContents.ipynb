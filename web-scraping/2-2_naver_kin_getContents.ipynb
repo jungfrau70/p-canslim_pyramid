{
 "cells": [
  {
   "cell_type": "markdown",
   "metadata": {},
   "source": [
    "## Naver 지식인 크롤링\n",
    "* https://www.inflearn.com/pages/newyear-event-20200102\n",
    "* 영상 튜토리얼 : [댓글 수백 수천개 분석하기?! [1/5] 이벤트 데이터 크롤링 feat. 인프런 새해 다짐 이벤트 - YouTube](https://www.youtube.com/watch?v=OUSwQk79H8I&list=PLaTc2c6yEwmohRzCxWQqJ7Z9aqc-sQ5gC)\n",
    "\n",
    "\n",
    "## 필요한 라이브러리 설치\n",
    "* 아나콘다 사용시 다음의 프롬프트 창을 열어 conda 명령어로 설치합니다.\n",
    "* pip 사용시 아래에 있는 명령어를 터미널로 설치합니다.\n",
    "<img src=\"https://i.imgur.com/Sar4gdw.jpg\">\n",
    "\n",
    "### BeautifulSoup\n",
    "* `conda install -c anaconda beautifulsoup4`\n",
    "* [Beautifulsoup4 :: Anaconda Cloud](https://anaconda.org/anaconda/beautifulsoup4)\n",
    "\n",
    "* pip 사용시 : `pip install beautifulsoup4`\n",
    "\n",
    "### tqdm\n",
    "* `conda install -c conda-forge tqdm`\n",
    "* [tqdm/tqdm: A Fast, Extensible Progress Bar for Python and CLI](https://github.com/tqdm/tqdm)\n",
    "* `pip install tqdm`"
   ]
  },
  {
   "cell_type": "code",
   "execution_count": 1,
   "metadata": {
    "scrolled": true
   },
   "outputs": [
    {
     "name": "stderr",
     "output_type": "stream",
     "text": [
      "\r",
      "  0%|                                                                            | 0/1500 [00:00<?, ?it/s]"
     ]
    },
    {
     "name": "stdout",
     "output_type": "stream",
     "text": [
      "./urls/kin-posts_외식.csv\n"
     ]
    },
    {
     "name": "stderr",
     "output_type": "stream",
     "text": [
      "100%|█████████████████████████████████████████████████████████████████| 1500/1500 [32:15<00:00,  1.29s/it]\n",
      "  0%|                                                                            | 0/1500 [00:00<?, ?it/s]"
     ]
    },
    {
     "name": "stdout",
     "output_type": "stream",
     "text": [
      "./scraps/kin-posts-scrapped_외식.csv\n",
      "./urls/kin-posts_식사.csv\n"
     ]
    },
    {
     "name": "stderr",
     "output_type": "stream",
     "text": [
      "100%|█████████████████████████████████████████████████████████████████| 1500/1500 [07:15<00:00,  3.44it/s]\n",
      "  0%|▏                                                                   | 3/1500 [00:00<01:10, 21.31it/s]"
     ]
    },
    {
     "name": "stdout",
     "output_type": "stream",
     "text": [
      "./scraps/kin-posts-scrapped_식사.csv\n",
      "./urls/kin-posts_메뉴.csv\n"
     ]
    },
    {
     "name": "stderr",
     "output_type": "stream",
     "text": [
      "100%|█████████████████████████████████████████████████████████████████| 1500/1500 [30:42<00:00,  1.23s/it]\n",
      "  0%|                                                                            | 0/1500 [00:00<?, ?it/s]"
     ]
    },
    {
     "name": "stdout",
     "output_type": "stream",
     "text": [
      "./scraps/kin-posts-scrapped_메뉴.csv\n",
      "./urls/kin-posts_식당.csv\n"
     ]
    },
    {
     "name": "stderr",
     "output_type": "stream",
     "text": [
      "100%|█████████████████████████████████████████████████████████████████| 1500/1500 [05:35<00:00,  4.47it/s]\n",
      "  0%|                                                                            | 0/1500 [00:00<?, ?it/s]"
     ]
    },
    {
     "name": "stdout",
     "output_type": "stream",
     "text": [
      "./scraps/kin-posts-scrapped_식당.csv\n",
      "./urls/kin-posts_레스토랑.csv\n"
     ]
    },
    {
     "name": "stderr",
     "output_type": "stream",
     "text": [
      "100%|█████████████████████████████████████████████████████████████████| 1500/1500 [31:59<00:00,  1.28s/it]\n",
      "  0%|                                                                            | 0/1500 [00:00<?, ?it/s]"
     ]
    },
    {
     "name": "stdout",
     "output_type": "stream",
     "text": [
      "./scraps/kin-posts-scrapped_레스토랑.csv\n",
      "./urls/kin-posts_가성비.csv\n"
     ]
    },
    {
     "name": "stderr",
     "output_type": "stream",
     "text": [
      "100%|█████████████████████████████████████████████████████████████████| 1500/1500 [20:41<00:00,  1.21it/s]\n",
      "  0%|                                                                            | 0/1500 [00:00<?, ?it/s]"
     ]
    },
    {
     "name": "stdout",
     "output_type": "stream",
     "text": [
      "./scraps/kin-posts-scrapped_가성비.csv\n",
      "./urls/kin-posts_트렌드.csv\n"
     ]
    },
    {
     "name": "stderr",
     "output_type": "stream",
     "text": [
      "100%|█████████████████████████████████████████████████████████████████| 1500/1500 [21:34<00:00,  1.16it/s]\n",
      "  0%|                                                                            | 0/1500 [00:00<?, ?it/s]"
     ]
    },
    {
     "name": "stdout",
     "output_type": "stream",
     "text": [
      "./scraps/kin-posts-scrapped_트렌드.csv\n",
      "./urls/kin-posts_배달.csv\n"
     ]
    },
    {
     "name": "stderr",
     "output_type": "stream",
     "text": [
      "100%|█████████████████████████████████████████████████████████████████| 1500/1500 [23:26<00:00,  1.07it/s]\n",
      "  0%|                                                                            | 0/1500 [00:00<?, ?it/s]"
     ]
    },
    {
     "name": "stdout",
     "output_type": "stream",
     "text": [
      "./scraps/kin-posts-scrapped_배달.csv\n",
      "./urls/kin-posts_맛집.csv\n"
     ]
    },
    {
     "name": "stderr",
     "output_type": "stream",
     "text": [
      "100%|█████████████████████████████████████████████████████████████████| 1500/1500 [30:35<00:00,  1.22s/it]\n",
      "  0%|                                                                            | 0/1500 [00:00<?, ?it/s]"
     ]
    },
    {
     "name": "stdout",
     "output_type": "stream",
     "text": [
      "./scraps/kin-posts-scrapped_맛집.csv\n",
      "./urls/kin-posts_비대면.csv\n"
     ]
    },
    {
     "name": "stderr",
     "output_type": "stream",
     "text": [
      "100%|█████████████████████████████████████████████████████████████████| 1500/1500 [08:07<00:00,  3.08it/s]"
     ]
    },
    {
     "name": "stdout",
     "output_type": "stream",
     "text": [
      "./scraps/kin-posts-scrapped_비대면.csv\n"
     ]
    },
    {
     "name": "stderr",
     "output_type": "stream",
     "text": [
      "\n"
     ]
    }
   ],
   "source": [
    "# 라이브러리 로드\n",
    "# requests는 작은 웹브라우저로 웹사이트 내용을 가져온다.\n",
    "import requests\n",
    "# BeautifulSoup 을 통해 읽어 온 웹페이지를 파싱한다.\n",
    "from bs4 import BeautifulSoup as bs\n",
    "# 크롤링 후 결과를 데이터프레임 형태로 보기 위해 불러온다.\n",
    "import pandas as pd\n",
    "from pandas import read_excel\n",
    "from selenium import webdriver\n",
    "from selenium.webdriver.common.by import By\n",
    "\n",
    "import time\n",
    "from tqdm import tqdm\n",
    "\n",
    "def get_posts(post_urls, interval=1):\n",
    "\n",
    "    questions = []\n",
    "    answers = []\n",
    "    viewnums = []\n",
    "    dates = []\n",
    "\n",
    "    for post_url in tqdm(post_urls):    \n",
    "\n",
    "        # 크롤링 할 사이트\n",
    "        try:\n",
    "            res = requests.get( post_url[0], headers=headers )\n",
    "            res.raise_for_status()\n",
    "\n",
    "            time.sleep(interval) \n",
    "\n",
    "            post_soup = bs(res.text, 'html.parser')\n",
    "            q = post_soup.find_all('h3', attrs={\"class\":\"heading\"})[0].get_text()\n",
    "            post_soup.find_all('div', attrs={\"class\":\"article_content content_lv1 _questionContentsArea\"})[0]\n",
    "            q_detail = post_soup.find_all('div', attrs={\"class\":\"user_content\"})[0].get_text()\n",
    "            question = (q + q_detail).strip()\n",
    "\n",
    "            date = post_soup.find('span', attrs={\"class\":\"date\"}).get_text().strip()\n",
    "            viewnum = post_soup.find('em', attrs={\"class\":\"num\"}).get_text().strip()\n",
    "            answer = post_soup.find('div', attrs={\"class\":\"se-main-container\"}).get_text().strip()\n",
    "\n",
    "            questions.append(question)\n",
    "            answers.append(answer)\n",
    "            viewnums.append(viewnum)\n",
    "            dates.append(date)\n",
    "        except:\n",
    "            pass\n",
    "\n",
    "    post_df = pd.DataFrame({\"question\": questions, \"answer\": answers, \"viewnum\": viewnums, \"date\": dates})\n",
    "    \n",
    "    return post_df\n",
    "        \n",
    "        \n",
    "headers = {\"User-Agent\":\"Mozilla/5.0 (Windows NT 10.0; Win64; x64) AppleWebKit/537.36 (KHTML, like Gecko) Chrome/84.0.4147.135 Safari/537.36\"}\n",
    "\n",
    "keywords = ['외식', '식사', '메뉴', '식당', '레스토랑', '가성비', '트렌드', '배달', '맛집', '비대면']\n",
    "\n",
    "for keyword in keywords:\n",
    "    filename = \"./urls/\" + \"kin-posts_\" + keyword.replace(\" \",\"\") + \".csv\"\n",
    "    print(filename)\n",
    "    \n",
    "    # 파일 읽기\n",
    "    df_postURLs = pd.read_csv(filename)\n",
    "    post_urls = df_postURLs.values.tolist()\n",
    "    try:\n",
    "        # 파일 쓰기\n",
    "        post_df = get_posts(post_urls, 1)\n",
    "        output_filename = \"./scraps/\" + \"kin-posts-scrapped_\" + keyword.replace(\" \",\"\") + \".csv\"\n",
    "        print(output_filename)\n",
    "        post_df.to_csv(output_filename, date_format='%Y%m%d', encoding='utf-8-sig') \n",
    "    except:\n",
    "        continue"
   ]
  },
  {
   "cell_type": "code",
   "execution_count": null,
   "metadata": {},
   "outputs": [],
   "source": []
  }
 ],
 "metadata": {
  "kernelspec": {
   "display_name": "Python 3",
   "language": "python",
   "name": "python3"
  },
  "language_info": {
   "codemirror_mode": {
    "name": "ipython",
    "version": 3
   },
   "file_extension": ".py",
   "mimetype": "text/x-python",
   "name": "python",
   "nbconvert_exporter": "python",
   "pygments_lexer": "ipython3",
   "version": "3.8.3"
  },
  "varInspector": {
   "cols": {
    "lenName": 16,
    "lenType": 16,
    "lenVar": 40
   },
   "kernels_config": {
    "python": {
     "delete_cmd_postfix": "",
     "delete_cmd_prefix": "del ",
     "library": "var_list.py",
     "varRefreshCmd": "print(var_dic_list())"
    },
    "r": {
     "delete_cmd_postfix": ") ",
     "delete_cmd_prefix": "rm(",
     "library": "var_list.r",
     "varRefreshCmd": "cat(var_dic_list()) "
    }
   },
   "types_to_exclude": [
    "module",
    "function",
    "builtin_function_or_method",
    "instance",
    "_Feature"
   ],
   "window_display": false
  }
 },
 "nbformat": 4,
 "nbformat_minor": 2
}
