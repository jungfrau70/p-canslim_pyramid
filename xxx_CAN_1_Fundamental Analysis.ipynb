{
 "cells": [
  {
   "cell_type": "code",
   "execution_count": 5,
   "id": "b8dee5f8-de4e-4ef0-9ae6-aa17096fefd8",
   "metadata": {},
   "outputs": [],
   "source": [
    "import os\n",
    "import glob\n",
    "import datetime as dt\n",
    "import numpy as np\n",
    "import pandas as pd\n",
    "import matplotlib.pyplot as plt\n",
    "import yfinance as yf\n",
    "yf.pdr_override() # <== that's all it takes :-)\n",
    "\n",
    "from concurrent import futures\n",
    "from dateutil.relativedelta import relativedelta\n",
    "from pandas_datareader import data as pdr\n",
    "from scipy.stats import gaussian_kde\n",
    "\n",
    "\"\"\" datetime util \"\"\"\n",
    "now = dt.datetime.now()\n",
    "lastday = now + relativedelta(months=0, days=-1)\n",
    "firstday_of_this_month = dt.datetime(now.year, now.month, 1)\n",
    "lastday_of_this_month = dt.datetime(now.year, now.month, 1) + relativedelta(months=1, days=-1)\n",
    "firstday_of_last_month = dt.datetime(now.year, now.month, 1) + relativedelta(months=-1, days=0)\n",
    "lastday_of_last_month = dt.datetime(now.year, now.month, 1) + relativedelta(months=0, days=-1)\n",
    "\n",
    "\"\"\" set the download window \"\"\"\n",
    "start_date = \"2017-01-01\"\n",
    "end_date = lastday.strftime('%Y-%m-%d')\n",
    "\n",
    "\n",
    "\"\"\" set the data_dir \"\"\"\n",
    "data_dir = \"./data\"\n",
    "os.makedirs(data_dir, exist_ok=True)"
   ]
  },
  {
   "cell_type": "markdown",
   "id": "a64b1c45-b6c8-48bf-8e95-ed34f636b980",
   "metadata": {},
   "source": [
    "# Download Symbols"
   ]
  },
  {
   "cell_type": "code",
   "execution_count": 2,
   "id": "babe2f35-c4bf-477d-876c-e95fbcbf3113",
   "metadata": {},
   "outputs": [
    {
     "name": "stdout",
     "output_type": "stream",
     "text": [
      "Overwriting getSymbols.py\n"
     ]
    }
   ],
   "source": [
    "\"\"\" Download Tickers \"\"\"\n",
    "tables = pd.read_html('https://en.wikipedia.org/wiki/List_of_S%26P_500_companies')\n",
    "\n",
    "sp500_df = tables[0]\n",
    "second_table = tables[1]\n",
    "print(sp500_df.shape)\n",
    "\n",
    "\"\"\" save symbols into csv file \"\"\"\n",
    "# rename symbol to escape symbol error\n",
    "sp500_df[\"Symbol\"] = sp500_df[\"Symbol\"].map(lambda x: x.replace(\".\", \"-\"))\n",
    "sp500_df.to_csv(f\"{data_dir}/SP500_{end_date}.csv\", index=False)\n",
    "sp500_df = pd.read_csv(f\"{data_dir}/SP500_{end_date}.csv\")\n",
    "print(sp500_df.shape)\n",
    "sp500_tickers = list(sp500_df[\"Symbol\"])\n",
    "print(sp500_df.head())\n",
    "#print(sp500_tickers)"
   ]
  },
  {
   "cell_type": "markdown",
   "id": "059a6d7b-157c-4f35-8631-ea5234b8fe28",
   "metadata": {},
   "source": [
    "# Financial Analysis"
   ]
  },
  {
   "cell_type": "code",
   "execution_count": 6,
   "id": "f25163c7-5e34-4a12-af09-b5a6025bfac3",
   "metadata": {},
   "outputs": [
    {
     "data": {
      "text/plain": [
       "'C:\\\\work\\\\p-canslim_pyramid'"
      ]
     },
     "execution_count": 6,
     "metadata": {},
     "output_type": "execute_result"
    }
   ],
   "source": [
    "os.getcwd()"
   ]
  },
  {
   "cell_type": "code",
   "execution_count": null,
   "id": "0bd35745-9851-4b49-8e92-f4e550025013",
   "metadata": {},
   "outputs": [],
   "source": [
    "!python findStocks/findStocks.py --stock_list f\"./data/SP500_{end_date}.csv\" --data_folder \"./data/financial\" --report_folder \"./report\""
   ]
  },
  {
   "cell_type": "markdown",
   "id": "4fcbe815-7e3e-4bdb-a4f6-f5fd2969b70c",
   "metadata": {},
   "source": [
    "# Most Attractive Stocks"
   ]
  },
  {
   "cell_type": "raw",
   "id": "5120f747-0fa8-4d4f-a082-e095b1e90aa6",
   "metadata": {},
   "source": [
    "    \"\"\"\n",
    "    Check if stocks pass percent change tests.\n",
    "\n",
    "    1. Annual - EPS must increase by 20%\n",
    "    2. Annual - ROE must be over 17%\n",
    "    3. Quarterly - EPS must increase by 20%\n",
    "    4. Quarterly - Sales must increase by 20%\n",
    "    \"\"\""
   ]
  },
  {
   "cell_type": "code",
   "execution_count": 92,
   "id": "8bcffa88-d78c-4384-8cda-a41f75d04aea",
   "metadata": {},
   "outputs": [
    {
     "name": "stdout",
     "output_type": "stream",
     "text": [
      "total: 310 \n",
      "---------------------\n",
      "failed: 190 \n",
      "processed: 310\n",
      "\n",
      "---------------------\n",
      "Please find the report directory\n",
      "total candidates: 14\n"
     ]
    },
    {
     "data": {
      "text/html": [
       "<div>\n",
       "<style scoped>\n",
       "    .dataframe tbody tr th:only-of-type {\n",
       "        vertical-align: middle;\n",
       "    }\n",
       "\n",
       "    .dataframe tbody tr th {\n",
       "        vertical-align: top;\n",
       "    }\n",
       "\n",
       "    .dataframe thead th {\n",
       "        text-align: right;\n",
       "    }\n",
       "</style>\n",
       "<table border=\"1\" class=\"dataframe\">\n",
       "  <thead>\n",
       "    <tr style=\"text-align: right;\">\n",
       "      <th></th>\n",
       "      <th>stock</th>\n",
       "      <th>avgpc</th>\n",
       "      <th>slope</th>\n",
       "    </tr>\n",
       "  </thead>\n",
       "  <tbody>\n",
       "    <tr>\n",
       "      <th>42</th>\n",
       "      <td>BKNG</td>\n",
       "      <td>-0.275</td>\n",
       "      <td>0.268</td>\n",
       "    </tr>\n",
       "    <tr>\n",
       "      <th>51</th>\n",
       "      <td>CAT</td>\n",
       "      <td>0.201</td>\n",
       "      <td>0.235</td>\n",
       "    </tr>\n",
       "    <tr>\n",
       "      <th>172</th>\n",
       "      <td>MPC</td>\n",
       "      <td>2.361</td>\n",
       "      <td>0.216</td>\n",
       "    </tr>\n",
       "    <tr>\n",
       "      <th>127</th>\n",
       "      <td>HAL</td>\n",
       "      <td>0.377</td>\n",
       "      <td>0.212</td>\n",
       "    </tr>\n",
       "    <tr>\n",
       "      <th>89</th>\n",
       "      <td>DOW</td>\n",
       "      <td>0.000</td>\n",
       "      <td>0.189</td>\n",
       "    </tr>\n",
       "    <tr>\n",
       "      <th>45</th>\n",
       "      <td>AVGO</td>\n",
       "      <td>0.462</td>\n",
       "      <td>0.170</td>\n",
       "    </tr>\n",
       "    <tr>\n",
       "      <th>217</th>\n",
       "      <td>OGN</td>\n",
       "      <td>0.000</td>\n",
       "      <td>0.133</td>\n",
       "    </tr>\n",
       "    <tr>\n",
       "      <th>174</th>\n",
       "      <td>MAR</td>\n",
       "      <td>6.575</td>\n",
       "      <td>0.132</td>\n",
       "    </tr>\n",
       "    <tr>\n",
       "      <th>133</th>\n",
       "      <td>HLT</td>\n",
       "      <td>1.254</td>\n",
       "      <td>0.103</td>\n",
       "    </tr>\n",
       "    <tr>\n",
       "      <th>150</th>\n",
       "      <td>JBHT</td>\n",
       "      <td>0.404</td>\n",
       "      <td>0.089</td>\n",
       "    </tr>\n",
       "    <tr>\n",
       "      <th>82</th>\n",
       "      <td>FANG</td>\n",
       "      <td>1.525</td>\n",
       "      <td>0.084</td>\n",
       "    </tr>\n",
       "    <tr>\n",
       "      <th>68</th>\n",
       "      <td>COP</td>\n",
       "      <td>1.718</td>\n",
       "      <td>0.075</td>\n",
       "    </tr>\n",
       "    <tr>\n",
       "      <th>79</th>\n",
       "      <td>DE</td>\n",
       "      <td>0.310</td>\n",
       "      <td>0.064</td>\n",
       "    </tr>\n",
       "    <tr>\n",
       "      <th>99</th>\n",
       "      <td>EOG</td>\n",
       "      <td>0.681</td>\n",
       "      <td>0.063</td>\n",
       "    </tr>\n",
       "  </tbody>\n",
       "</table>\n",
       "</div>"
      ],
      "text/plain": [
       "    stock  avgpc  slope\n",
       "42   BKNG -0.275  0.268\n",
       "51    CAT  0.201  0.235\n",
       "172   MPC  2.361  0.216\n",
       "127   HAL  0.377  0.212\n",
       "89    DOW  0.000  0.189\n",
       "45   AVGO  0.462  0.170\n",
       "217   OGN  0.000  0.133\n",
       "174   MAR  6.575  0.132\n",
       "133   HLT  1.254  0.103\n",
       "150  JBHT  0.404  0.089\n",
       "82   FANG  1.525  0.084\n",
       "68    COP  1.718  0.075\n",
       "79     DE  0.310  0.064\n",
       "99    EOG  0.681  0.063"
      ]
     },
     "execution_count": 92,
     "metadata": {},
     "output_type": "execute_result"
    }
   ],
   "source": [
    "data_dir = \"./data\"\n",
    "input_file = f\"{data_dir}/SP500_{end_date}_Processed.csv\"\n",
    "\n",
    "\"\"\" Load from CSV \"\"\"\n",
    "df = pd.read_csv(input_file)\n",
    "\n",
    "df_failed = df[df[\"Processed\"] != \"processed\"]\n",
    "df_processed = df[df[\"Processed\"].astype(str).str.contains(\"processed|processed_copied\")] \n",
    "\n",
    "report_dir = \"./report\"\n",
    "output_file = f\"{report_dir}/{now.strftime('%Y-%m-%d')} Financial Analysis Results.csv\"\n",
    "\n",
    "\"\"\" Load from CSV \"\"\"\n",
    "df = pd.read_csv(output_file)\n",
    "\n",
    "df_candidates = df[df[\"numfailed\"] < 1].sort_values(by=['slope'], ascending=False, axis=0)\n",
    "df_candidates = df_candidates[[\"stock\", \"slope\", \"avgpc\" ]]\n",
    "df_candidates.to_csv(f\"{report_dir}/most_attractives_{end_date}.csv\", index=False)\n",
    "\n",
    "print(f\"total: {len(df)} \\n---------------------\\nfailed: {len(df_failed)} \\nprocessed: {len(df_processed)}\")\n",
    "\n",
    "print(\"\\n---------------------\\nPlease find the report directory\")\n",
    "print(f\"total candidates: {len(df_candidates)}\")\n",
    "df_candidates[[\"stock\", \"avgpc\", \"slope\",]]"
   ]
  },
  {
   "cell_type": "code",
   "execution_count": null,
   "id": "3f717d3a-3875-44e9-b606-6c6091399e40",
   "metadata": {},
   "outputs": [],
   "source": []
  }
 ],
 "metadata": {
  "kernelspec": {
   "display_name": "Python 3 (ipykernel)",
   "language": "python",
   "name": "python3"
  },
  "language_info": {
   "codemirror_mode": {
    "name": "ipython",
    "version": 3
   },
   "file_extension": ".py",
   "mimetype": "text/x-python",
   "name": "python",
   "nbconvert_exporter": "python",
   "pygments_lexer": "ipython3",
   "version": "3.10.9"
  },
  "vscode": {
   "interpreter": {
    "hash": "16d3bdf13fecb92480a65b639a1b920e73a5cd622d987cd1c17fd45eb529f9b8"
   }
  }
 },
 "nbformat": 4,
 "nbformat_minor": 5
}
