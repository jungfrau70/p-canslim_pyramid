{
 "cells": [
  {
   "cell_type": "code",
   "execution_count": 20,
   "id": "60d9b2bf-a1fd-41a9-8c11-3b993ef9fae7",
   "metadata": {},
   "outputs": [],
   "source": [
    "import numpy as np\n",
    "import pandas as pd\n",
    "from datetime import datetime\n",
    "import vectorbt as vbt"
   ]
  },
  {
   "cell_type": "code",
   "execution_count": null,
   "id": "2c637be9-ab71-41b3-bf3a-f3508c192b6b",
   "metadata": {},
   "outputs": [],
   "source": [
    "num = 9\n",
    "metric = \"total_return\"\n",
    "\n",
    "btc_price = pd.read_csv(\"....csv\")[[\"timestamp\", \"close\"]]"
   ]
  },
  {
   "cell_type": "code",
   "execution_count": 25,
   "id": "52aeac8c-3bb7-4a3b-a662-77a356445744",
   "metadata": {},
   "outputs": [
    {
     "ename": "NameError",
     "evalue": "name 'df' is not defined",
     "output_type": "error",
     "traceback": [
      "\u001b[1;31m---------------------------------------------------------------------------\u001b[0m",
      "\u001b[1;31mNameError\u001b[0m                                 Traceback (most recent call last)",
      "Cell \u001b[1;32mIn[25], line 1\u001b[0m\n\u001b[1;32m----> 1\u001b[0m rsi \u001b[38;5;241m=\u001b[39m vbt\u001b[38;5;241m.\u001b[39mRSI\u001b[38;5;241m.\u001b[39mrun(\u001b[43mdf\u001b[49m, window \u001b[38;5;241m=\u001b[39m \u001b[38;5;241m14\u001b[39m, short_name \u001b[38;5;241m=\u001b[39m \u001b[38;5;124m\"\u001b[39m\u001b[38;5;124mrsi\u001b[39m\u001b[38;5;124m\"\u001b[39m)\n",
      "\u001b[1;31mNameError\u001b[0m: name 'df' is not defined"
     ]
    }
   ],
   "source": [
    "rsi = vbt.RSI.run(df, window = 14, short_name = \"rsi\")"
   ]
  },
  {
   "cell_type": "code",
   "execution_count": 21,
   "id": "e4552c03-098c-4538-959e-2079d86b0e1f",
   "metadata": {},
   "outputs": [],
   "source": [
    "\n",
    "entry_points = np.linspace(25, 45, num=num)\n",
    "exit_points = np.linspace(65,85, num=num)"
   ]
  },
  {
   "cell_type": "code",
   "execution_count": 22,
   "id": "d73fb952-a8f3-48eb-b966-104995def002",
   "metadata": {},
   "outputs": [],
   "source": [
    "grid = np.array(np.meshgrid(entry_points, exit_points)).T.reshape(-1,2)"
   ]
  },
  {
   "cell_type": "code",
   "execution_count": 23,
   "id": "fecb9dfa-38ae-4d68-8b5b-91854832fde3",
   "metadata": {},
   "outputs": [
    {
     "name": "stdout",
     "output_type": "stream",
     "text": [
      "[[25.  65. ]\n",
      " [25.  67.5]\n",
      " [25.  70. ]\n",
      " [25.  72.5]\n",
      " [25.  75. ]\n",
      " [25.  77.5]\n",
      " [25.  80. ]\n",
      " [25.  82.5]\n",
      " [25.  85. ]\n",
      " [27.5 65. ]\n",
      " [27.5 67.5]\n",
      " [27.5 70. ]\n",
      " [27.5 72.5]\n",
      " [27.5 75. ]\n",
      " [27.5 77.5]\n",
      " [27.5 80. ]\n",
      " [27.5 82.5]\n",
      " [27.5 85. ]\n",
      " [30.  65. ]\n",
      " [30.  67.5]\n",
      " [30.  70. ]\n",
      " [30.  72.5]\n",
      " [30.  75. ]\n",
      " [30.  77.5]\n",
      " [30.  80. ]\n",
      " [30.  82.5]\n",
      " [30.  85. ]\n",
      " [32.5 65. ]\n",
      " [32.5 67.5]\n",
      " [32.5 70. ]\n",
      " [32.5 72.5]\n",
      " [32.5 75. ]\n",
      " [32.5 77.5]\n",
      " [32.5 80. ]\n",
      " [32.5 82.5]\n",
      " [32.5 85. ]\n",
      " [35.  65. ]\n",
      " [35.  67.5]\n",
      " [35.  70. ]\n",
      " [35.  72.5]\n",
      " [35.  75. ]\n",
      " [35.  77.5]\n",
      " [35.  80. ]\n",
      " [35.  82.5]\n",
      " [35.  85. ]\n",
      " [37.5 65. ]\n",
      " [37.5 67.5]\n",
      " [37.5 70. ]\n",
      " [37.5 72.5]\n",
      " [37.5 75. ]\n",
      " [37.5 77.5]\n",
      " [37.5 80. ]\n",
      " [37.5 82.5]\n",
      " [37.5 85. ]\n",
      " [40.  65. ]\n",
      " [40.  67.5]\n",
      " [40.  70. ]\n",
      " [40.  72.5]\n",
      " [40.  75. ]\n",
      " [40.  77.5]\n",
      " [40.  80. ]\n",
      " [40.  82.5]\n",
      " [40.  85. ]\n",
      " [42.5 65. ]\n",
      " [42.5 67.5]\n",
      " [42.5 70. ]\n",
      " [42.5 72.5]\n",
      " [42.5 75. ]\n",
      " [42.5 77.5]\n",
      " [42.5 80. ]\n",
      " [42.5 82.5]\n",
      " [42.5 85. ]\n",
      " [45.  65. ]\n",
      " [45.  67.5]\n",
      " [45.  70. ]\n",
      " [45.  72.5]\n",
      " [45.  75. ]\n",
      " [45.  77.5]\n",
      " [45.  80. ]\n",
      " [45.  82.5]\n",
      " [45.  85. ]]\n"
     ]
    }
   ],
   "source": [
    "print(grid)"
   ]
  },
  {
   "cell_type": "code",
   "execution_count": 24,
   "id": "7a4c743a-c3eb-4b95-affa-853ade0ea806",
   "metadata": {},
   "outputs": [
    {
     "ename": "NameError",
     "evalue": "name 'rsi' is not defined",
     "output_type": "error",
     "traceback": [
      "\u001b[1;31m---------------------------------------------------------------------------\u001b[0m",
      "\u001b[1;31mNameError\u001b[0m                                 Traceback (most recent call last)",
      "Cell \u001b[1;32mIn[24], line 1\u001b[0m\n\u001b[1;32m----> 1\u001b[0m entries \u001b[38;5;241m=\u001b[39m \u001b[43mrsi\u001b[49m\u001b[38;5;241m.\u001b[39mrsi_crossed_below(\u001b[38;5;28mlist\u001b[39m(grid[:, [\u001b[38;5;241m10\u001b[39m]]))\n\u001b[0;32m      2\u001b[0m exits \u001b[38;5;241m=\u001b[39m rsi\u001b[38;5;241m.\u001b[39mrsi_crossed_above(\u001b[38;5;28mlist\u001b[39m(grid[:, [\u001b[38;5;241m1\u001b[39m]]))\n",
      "\u001b[1;31mNameError\u001b[0m: name 'rsi' is not defined"
     ]
    }
   ],
   "source": [
    "entries = rsi.rsi_crossed_below(list(grid[:, [10]]))\n",
    "exits = rsi.rsi_crossed_above(list(grid[:, [1]]))"
   ]
  },
  {
   "cell_type": "code",
   "execution_count": null,
   "id": "5bd32c42-8e31-4151-a879-a8ad2cf0640f",
   "metadata": {},
   "outputs": [],
   "source": []
  }
 ],
 "metadata": {
  "kernelspec": {
   "display_name": "Python 3 (ipykernel)",
   "language": "python",
   "name": "python3"
  },
  "language_info": {
   "codemirror_mode": {
    "name": "ipython",
    "version": 3
   },
   "file_extension": ".py",
   "mimetype": "text/x-python",
   "name": "python",
   "nbconvert_exporter": "python",
   "pygments_lexer": "ipython3",
   "version": "3.10.7"
  }
 },
 "nbformat": 4,
 "nbformat_minor": 5
}
