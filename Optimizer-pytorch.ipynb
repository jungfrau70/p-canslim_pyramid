{
 "cells": [
  {
   "cell_type": "code",
   "execution_count": 12,
   "id": "d7c6d1e1-a1e7-4c08-9540-204f17da3552",
   "metadata": {},
   "outputs": [],
   "source": [
    "import yfinance as yf\n",
    "import numpy as np\n",
    "\n",
    "# Fetch stock data using yfinance library\n",
    "stock = yf.Ticker(\"AAPL\")\n",
    "df = stock.history(period=\"max\")\n",
    "\n",
    "# Extract the relevant columns (e.g., close price, volume)\n",
    "data = df[[\"Open\", \"High\", \"Low\", \"Volume\", \"Close\", ]].values\n",
    "\n",
    "# Save the data as a numpy array\n",
    "np.save(\"stock_data_with_volume.npy\", data)"
   ]
  },
  {
   "cell_type": "code",
   "execution_count": 17,
   "id": "cd7df2f4-beab-4063-bb00-b6da15f36514",
   "metadata": {},
   "outputs": [],
   "source": [
    "import torch\n",
    "import torch.nn as nn\n",
    "\n",
    "class TradingStrategy(nn.Module):\n",
    "    def __init__(self):\n",
    "        super(TradingStrategy, self).__init__()\n",
    "        self.l1 = nn.Linear(4, 16) # Input layer with 3 features and 16 hidden units\n",
    "        self.l2 = nn.Linear(16, 1) # Output layer with 1 unit\n",
    "\n",
    "    def forward(self, x):\n",
    "        x = torch.sigmoid(self.l1(x)) # Apply sigmoid activation function\n",
    "        x = self.l2(x)\n",
    "        return x\n",
    "\n",
    "# Load the stock data with volume as a numpy array\n",
    "data = np.load(\"stock_data_with_volume.npy\")\n",
    "\n",
    "# Define the cost function\n",
    "def cost_function(net, data, target):\n",
    "    prediction = net(data)\n",
    "    cost = torch.mean((prediction - target)**2)\n",
    "    return cost\n",
    "\n",
    "# Initialize the network and the optimizer\n",
    "net = TradingStrategy()\n",
    "optimizer = torch.optim.Adam(net.parameters())\n",
    "\n",
    "# Training loop\n",
    "for i in range(1000):\n",
    "    # Randomly shuffle the data\n",
    "    np.random.shuffle(data)\n",
    "\n",
    "    # Split the data into inputs (X) and target (y)\n",
    "    X = data[:, :4]\n",
    "    y = data[:, 4]\n",
    "\n",
    "    # Convert the data to PyTorch tensors\n",
    "    X = torch.from_numpy(X).float()\n",
    "    y = torch.from_numpy(y).float()\n",
    "\n",
    "    # Zero the gradients\n",
    "    optimizer.zero_grad()\n",
    "\n",
    "    # Forward pass\n",
    "    output = net(X)\n",
    "\n",
    "    # Compute the cost\n",
    "    cost = cost_function(net, X, y)\n",
    "\n",
    "    # Backward pass and optimization\n",
    "    cost.backward()\n",
    "    optimizer.step()\n"
   ]
  },
  {
   "cell_type": "code",
   "execution_count": null,
   "id": "a38c0b1a-7439-4f81-a777-f02a986b20ea",
   "metadata": {},
   "outputs": [],
   "source": []
  }
 ],
 "metadata": {
  "kernelspec": {
   "display_name": "Python 3 (ipykernel)",
   "language": "python",
   "name": "python3"
  },
  "language_info": {
   "codemirror_mode": {
    "name": "ipython",
    "version": 3
   },
   "file_extension": ".py",
   "mimetype": "text/x-python",
   "name": "python",
   "nbconvert_exporter": "python",
   "pygments_lexer": "ipython3",
   "version": "3.10.7"
  }
 },
 "nbformat": 4,
 "nbformat_minor": 5
}
