{
 "cells": [
  {
   "cell_type": "code",
   "execution_count": 1,
   "id": "0428a3f2-da30-406e-b723-bb6457edf3ec",
   "metadata": {},
   "outputs": [
    {
     "name": "stdout",
     "output_type": "stream",
     "text": [
      "Current working directory: C:\\work\\p-canslim_pyramid\\most_attractive_stocks\n"
     ]
    }
   ],
   "source": [
    "import os\n",
    "import glob\n",
    "import datetime as dt\n",
    "import numpy as np\n",
    "import pandas as pd\n",
    "import matplotlib.pyplot as plt\n",
    "import yfinance as yf\n",
    "yf.pdr_override() # <== that's all it takes :-)\n",
    "\n",
    "from concurrent import futures\n",
    "from dateutil.relativedelta import relativedelta\n",
    "from pandas_datareader import data as pdr\n",
    "from scipy.stats import gaussian_kde\n",
    "\n",
    "\"\"\" set home directory \"\"\"\n",
    "try: \n",
    "    home_dir\n",
    "except NameError: \n",
    "    home_dir = os.getcwd()\n",
    "\n",
    "os.chdir(home_dir)\n",
    "\n",
    "\"\"\" set working directory \"\"\"\n",
    "# Change the current working directory\n",
    "working_dir = \"./most_attractive_stocks\"\n",
    "os.chdir(working_dir)\n",
    "\n",
    "data_dir = \"../data/historical\"\n",
    "os.makedirs(data_dir, exist_ok=True)\n",
    "\n",
    "# Print the current working directory\n",
    "print(\"Current working directory: {0}\".format(os.getcwd()))\n",
    "#print(\"Current data directory: {0}\".format(os.listdir('../data')))"
   ]
  },
  {
   "cell_type": "code",
   "execution_count": 2,
   "id": "6104eb3d-1387-42ea-b5a1-82a6fb3041a3",
   "metadata": {},
   "outputs": [],
   "source": [
    "\"\"\" datetime util \"\"\"\n",
    "now = dt.datetime.now()\n",
    "lastday = now + relativedelta(months=0, days=-1)\n",
    "firstday_of_this_month = dt.datetime(now.year, now.month, 1)\n",
    "lastday_of_this_month = dt.datetime(now.year, now.month, 1) + relativedelta(months=1, days=-1)\n",
    "firstday_of_last_month = dt.datetime(now.year, now.month, 1) + relativedelta(months=-1, days=0)\n",
    "lastday_of_last_month = dt.datetime(now.year, now.month, 1) + relativedelta(months=0, days=-1)"
   ]
  },
  {
   "cell_type": "code",
   "execution_count": 3,
   "id": "32b2e723-6542-46e3-8788-f4b34087982c",
   "metadata": {},
   "outputs": [],
   "source": [
    "\"\"\" set the download window \"\"\"\n",
    "start_date = \"2017-01-01\"\n",
    "end_date = lastday.strftime('%Y-%m-%d')"
   ]
  },
  {
   "cell_type": "markdown",
   "id": "cca98ff4",
   "metadata": {},
   "source": [
    "# Download Tickers"
   ]
  },
  {
   "cell_type": "code",
   "execution_count": 4,
   "id": "208327e6",
   "metadata": {},
   "outputs": [
    {
     "name": "stdout",
     "output_type": "stream",
     "text": [
      "(503, 9)\n",
      "(503, 9)\n",
      "  Symbol     Security SEC filings             GICS Sector  \\\n",
      "0    MMM           3M     reports             Industrials   \n",
      "1    AOS  A. O. Smith     reports             Industrials   \n",
      "2    ABT       Abbott     reports             Health Care   \n",
      "3   ABBV       AbbVie     reports             Health Care   \n",
      "4    ACN    Accenture     reports  Information Technology   \n",
      "\n",
      "                GICS Sub-Industry    Headquarters Location  Date added  \\\n",
      "0        Industrial Conglomerates    Saint Paul, Minnesota  1976-08-09   \n",
      "1               Building Products     Milwaukee, Wisconsin  2017-07-26   \n",
      "2           Health Care Equipment  North Chicago, Illinois  1964-03-31   \n",
      "3                 Pharmaceuticals  North Chicago, Illinois  2012-12-31   \n",
      "4  IT Consulting & Other Services          Dublin, Ireland  2011-07-06   \n",
      "\n",
      "       CIK      Founded  \n",
      "0    66740         1902  \n",
      "1    91142         1916  \n",
      "2     1800         1888  \n",
      "3  1551152  2013 (1888)  \n",
      "4  1467373         1989  \n"
     ]
    }
   ],
   "source": [
    "tables = pd.read_html('https://en.wikipedia.org/wiki/List_of_S%26P_500_companies')\n",
    "\n",
    "sp500_df = tables[0]\n",
    "second_table = tables[1]\n",
    "print(sp500_df.shape)\n",
    "\n",
    "# rename symbol to escape symbol error\n",
    "sp500_df[\"Symbol\"] = sp500_df[\"Symbol\"].map(lambda x: x.replace(\".\", \"-\"))\n",
    "sp500_df.to_csv(f\"{data_dir}/SP500_{end_date}.csv\", index=False)\n",
    "sp500_df = pd.read_csv(f\"{data_dir}/SP500_{end_date}.csv\")\n",
    "print(sp500_df.shape)\n",
    "sp500_tickers = list(sp500_df[\"Symbol\"])\n",
    "print(sp500_df.head())\n",
    "#print(sp500_tickers)"
   ]
  },
  {
   "cell_type": "markdown",
   "id": "059a6d7b-157c-4f35-8631-ea5234b8fe28",
   "metadata": {},
   "source": [
    "# Find Most Attractive Stocks"
   ]
  },
  {
   "cell_type": "code",
   "execution_count": 5,
   "id": "3cce4da4-2c05-4cc0-800b-4ae5ab6636f1",
   "metadata": {},
   "outputs": [],
   "source": [
    "stock_list = f\"{data_dir}/SP500_{end_date}.csv\""
   ]
  },
  {
   "cell_type": "code",
   "execution_count": 6,
   "id": "5edf8d22-5725-4cf1-b512-53b82725316b",
   "metadata": {},
   "outputs": [
    {
     "name": "stdout",
     "output_type": "stream",
     "text": [
      "../data/historical/SP500_2023-01-18.csv\n"
     ]
    }
   ],
   "source": [
    "!echo $stock_list"
   ]
  },
  {
   "cell_type": "code",
   "execution_count": 7,
   "id": "0bd35745-9851-4b49-8e92-f4e550025013",
   "metadata": {},
   "outputs": [
    {
     "name": "stdout",
     "output_type": "stream",
     "text": [
      ">>> GM\n",
      "\n",
      "[*********************100%***********************]  1 of 1 completed\n"
     ]
    },
    {
     "name": "stderr",
     "output_type": "stream",
     "text": [
      "Traceback (most recent call last):\n",
      "  File \"C:\\work\\p-canslim_pyramid\\most_attractive_stocks\\findStocks.py\", line 202, in <module>\n",
      "    record = testStock(s, dataFolder, flexible, record)\n",
      "  File \"C:\\work\\p-canslim_pyramid\\most_attractive_stocks\\findStocks.py\", line 179, in testStock\n",
      "    record = saveResults(stock, s, stockFile, record)\n",
      "  File \"C:\\work\\p-canslim_pyramid\\most_attractive_stocks\\findStocks.py\", line 147, in saveResults\n",
      "    stock.save()\n",
      "  File \"C:\\work\\p-canslim_pyramid\\most_attractive_stocks\\findStocksClasses.py\", line 412, in save\n",
      "    df = pd.concat([self.reports['q'], self.reports['a']], ignore_index=True)\n",
      "TypeError: list indices must be integers or slices, not str\n"
     ]
    }
   ],
   "source": [
    "!python findStocks.py --stock_list $stock_list --key \"P6QVC3IFRGHVKGAN\" --data_folder \"../data/historical\" --downloaded True"
   ]
  },
  {
   "cell_type": "code",
   "execution_count": null,
   "id": "e5fc0bd0-ad70-465d-8bb5-f77298ac7556",
   "metadata": {},
   "outputs": [],
   "source": []
  },
  {
   "cell_type": "code",
   "execution_count": null,
   "id": "a57c33f1-6595-4d24-91de-563d7f378649",
   "metadata": {},
   "outputs": [],
   "source": []
  },
  {
   "cell_type": "code",
   "execution_count": 7,
   "id": "f22a9e62-4c71-4818-929b-6b863a8cf125",
   "metadata": {},
   "outputs": [
    {
     "name": "stdout",
     "output_type": "stream",
     "text": [
      "^C\n"
     ]
    }
   ],
   "source": [
    "!python xxx_findStocks.py --stock_list $stock_list --key \"P6QVC3IFRGHVKGAN\" --data_folder \"../data/historical\""
   ]
  },
  {
   "cell_type": "code",
   "execution_count": 13,
   "id": "395ab78a-e1ce-46d9-996e-6117ee668c2a",
   "metadata": {},
   "outputs": [],
   "source": [
    "import os\n",
    "\n",
    "filenames = []\n",
    "for filename in os.listdir(data_dir)[1:]:\n",
    "    # Get the substring of the filename\n",
    "    substring = filename.split(\" \")[0] # gets the first 5 characters\n",
    "    filenames.append(substring)\n"
   ]
  },
  {
   "cell_type": "code",
   "execution_count": 18,
   "id": "e8c2a163-9958-47d8-b5ae-08cc11de8147",
   "metadata": {},
   "outputs": [],
   "source": [
    "filenames = list(set(filenames))"
   ]
  },
  {
   "cell_type": "code",
   "execution_count": 21,
   "id": "45aadd36-cc62-4877-8011-57de662d8ff4",
   "metadata": {},
   "outputs": [
    {
     "data": {
      "text/plain": [
       "500"
      ]
     },
     "execution_count": 21,
     "metadata": {},
     "output_type": "execute_result"
    }
   ],
   "source": [
    "len(filenames)"
   ]
  },
  {
   "cell_type": "code",
   "execution_count": 8,
   "id": "d659a1a9-6e8b-4479-8e3e-4018bcbbc56d",
   "metadata": {},
   "outputs": [
    {
     "name": "stdout",
     "output_type": "stream",
     "text": [
      "Overwriting findStocks.py\n"
     ]
    }
   ],
   "source": [
    "%%writefile findStocks.py\n",
    "#!/usr/bin/env python3\n",
    "\"\"\"\n",
    "Script to find new stocks to invest in.\n",
    "\n",
    "Rules used in these scripts\n",
    "1. Annual - EPS must increase by 20%\n",
    "2. Annual - ROE must be over 17%\n",
    "3. Quarterly - EPS must increase by 20%\n",
    "4. Quarterly - Sales must increase by 20%\n",
    "5. Stock price can not be decreasing recently\n",
    "\n",
    "Additional rules that automatically disqualify stock\n",
    "2. Foreign currency\n",
    "3. Recent negative net income\n",
    "4. Stock price has a decreasing trend\n",
    "\"\"\"\n",
    "\n",
    "import argparse\n",
    "from downloadData import download\n",
    "from findStocksUtils import (getStockList, findProcessed, saveAll,\n",
    "                             updateProcessed, makeDirectory, checkDataMatches)\n",
    "from findStocksClasses import Stock\n",
    "\n",
    "\n",
    "def getInputs():\n",
    "    \"\"\"Parse arguments.\"\"\"\n",
    "    parser = argparse.ArgumentParser()\n",
    "    parser.add_argument('--stock_list', type=str, required=True, help=(\n",
    "        '.csv file with a column of stock symbols, e.g. Example Stock List.csv'))\n",
    "    parser.add_argument('--key', type=str, help=(\n",
    "        'API key for Alpha Vantage'))\n",
    "    parser.add_argument('--data_folder', type=str, default='Data', help=(\n",
    "        'Folder with data downloaded from Alpha Vantage'))\n",
    "    parser.add_argument('--not_flexible', action='store_true', help=(\n",
    "        'Add argument to manually input data from sec.gov if it is missing'))\n",
    "\n",
    "    params = vars(parser.parse_args())\n",
    "    stockFile = params['stock_list']\n",
    "    apikey = params['key'] if 'key' in params else None\n",
    "    dataFolder = params['data_folder']\n",
    "    flexible = not params['not_flexible']\n",
    "    record = []\n",
    "    return stockFile, dataFolder, apikey, flexible, record\n",
    "\n",
    "\n",
    "def getData(stockFile, dataFolder, apikey):\n",
    "    \"\"\"Download the data and/or get list of stocks ready for analysis.\"\"\"\n",
    "    # Create folders for script to work\n",
    "    makeDirectory(dataFolder)\n",
    "\n",
    "    # Use predownloaded data\n",
    "    if apikey is None:\n",
    "        checkDataMatches(stockFile, dataFolder)\n",
    "    # Or download data from Alpha Vantage\n",
    "    else:\n",
    "        download(stockFile, dataFolder, apikey)\n",
    "\n",
    "    # Get stock symbols for downloaded stock data\n",
    "    allSymbols = getStockList(stockFile)\n",
    "\n",
    "    # Get stock symbols for unprocessed stock data\n",
    "    symbols = findProcessed(stockFile, allSymbols)\n",
    "\n",
    "    assert symbols != [], 'No stocks were found in *_Processed.csv file'\n",
    "\n",
    "    # final list is used to collect test results\n",
    "    record = []\n",
    "\n",
    "    return symbols\n",
    "\n",
    "\n",
    "def preliminaryTests(stock):\n",
    "    \"\"\"Run preliminary tests to see if stock failed and can be skipped.\"\"\"\n",
    "    # Perliminary tests to disqualify a stock\n",
    "    stock.prelimTests()\n",
    "\n",
    "    # Skip stock if it failed any of the preliminary tests\n",
    "    if stock.errorMessage != 'processed':\n",
    "        return\n",
    "\n",
    "    # Check for negative income\n",
    "    stock.checkNegativeIncome()\n",
    "\n",
    "    # Skip stock if it has negative net income\n",
    "    if stock.errorMessage != 'processed':\n",
    "        return\n",
    "\n",
    "    # Check if stock price has been decreasing recently\n",
    "    stock.checkSlope()\n",
    "\n",
    "    # Skip stock if it does not have increasing price change\n",
    "    if stock.errorMessage != 'processed':\n",
    "        return\n",
    "\n",
    "    # Reduce income statement and balance sheet into one DF\n",
    "    stock.reduceDF()\n",
    "\n",
    "\n",
    "def manageBadData(stock, r):\n",
    "    \"\"\"Manage missing data.\"\"\"\n",
    "    # Identify missing data\n",
    "    stock.miss[r] = stock.identifyMissing(stock.reports[r])\n",
    "\n",
    "    # If user is not flexible, get user input when missing data is encountered\n",
    "    if not stock.flex:\n",
    "        stock.reports[r] = stock.getData(stock.reports[r],\n",
    "                                         stock.miss[r])\n",
    "    # Otherwise if user is flexible, copy recent data over to missing data\n",
    "    else:\n",
    "        stock.reports[r], stock.miss[r] = stock.copy(stock.reports[r],\n",
    "                                                     stock.miss[r])\n",
    "\n",
    "    # Change column type to numeric if is object\n",
    "    stock.reports[r] = stock.checkType(stock.reports[r])\n",
    "\n",
    "    # Check if shares are missing trailing zeros\n",
    "    shares = 'commonStockSharesOutstanding'\n",
    "    stock.reports[r][shares] = stock.checkSmallShares(stock.reports[r][shares])\n",
    "\n",
    "\n",
    "def analyzeStock(stock, r):\n",
    "    \"\"\"Run important tests to determine if quality stock.\"\"\"\n",
    "    # Calculate ROE and EPS\n",
    "    stock.reports[r] = stock.calculate(stock.reports[r])\n",
    "\n",
    "    # Calculate the percentage change year over year\n",
    "    stock.reports[r] = stock.percentChange(stock.reports[r], r)\n",
    "\n",
    "    # Round DF for pretty saving\n",
    "    stock.reports[r] = stock.roundReports(stock.reports[r])\n",
    "\n",
    "    # Check the percentage change year over year\n",
    "    stock.test(stock.reports[r], r)\n",
    "\n",
    "    if r == 'q':\n",
    "        # Calculate the average of the percent changes\n",
    "        stock.averagePercentChange(stock.reports[r])\n",
    "\n",
    "\n",
    "def saveResults(stock, s, stockFile, record):\n",
    "    \"\"\"Save results after processing stock.\"\"\"\n",
    "    # Save stock information\n",
    "    stock.save()\n",
    "\n",
    "    # Update the processed file\n",
    "    updateProcessed(stockFile, s, stock.errorMessage)\n",
    "\n",
    "    # Append record to later save\n",
    "    record.append([x for x in stock.record.values()])\n",
    "\n",
    "    return record\n",
    "\n",
    "\n",
    "def testStock(s, dataFolder, flexible):\n",
    "    print('>>>', s)\n",
    "\n",
    "    # Initialize Stock object\n",
    "    stock = Stock(s, dataFolder, flexible)\n",
    "\n",
    "    # Run preliminary tests to check if stock is disqualified\n",
    "    preliminaryTests(stock)\n",
    "\n",
    "    # Skip stock if it failed preliminary tests. Update the *Processed.csv\n",
    "    if stock.errorMessage != 'processed':\n",
    "        updateProcessed(stockFile, s, stock.errorMessage)\n",
    "\n",
    "    for r in stock.reports:\n",
    "        # Manage missing data and other inconsistencies in data\n",
    "        manageBadData(stock, r)\n",
    "\n",
    "        # Calculate new metrics and run stock tests\n",
    "        analyzeStock(stock, r)\n",
    "\n",
    "    # Save data and update files\n",
    "    record = saveResults(stock, s, stockFile, record)\n",
    "    print(\"returned\")\n",
    "    return record\n",
    "\n",
    "\n",
    "if __name__ == '__main__':\n",
    "\n",
    "    # Get user inputs\n",
    "    stockFile, dataFolder, apikey, flexible, record = getInputs()\n",
    "\n",
    "    # Get financial report data\n",
    "    symbols = getData(stockFile, dataFolder, apikey)\n",
    "\n",
    "    # Loop through all stocks\n",
    "    for s in symbols:\n",
    "        record = testStock(s, dataFolder, flexible)\n",
    "\n",
    "        # Assert can occur when all stocks fail preliminary tests\n",
    "        assert record != [], 'No procssed stocks to save to *Results.csv'\n",
    "\n",
    "        # Save the test results for all stocks\n",
    "        columns = [x for x in record.keys()]\n",
    "        saveAll(record, columns)"
   ]
  },
  {
   "cell_type": "code",
   "execution_count": null,
   "id": "641d2636-ca0d-4fd7-b315-d3b04c406c2e",
   "metadata": {},
   "outputs": [],
   "source": []
  }
 ],
 "metadata": {
  "kernelspec": {
   "display_name": "Python 3 (ipykernel)",
   "language": "python",
   "name": "python3"
  },
  "language_info": {
   "codemirror_mode": {
    "name": "ipython",
    "version": 3
   },
   "file_extension": ".py",
   "mimetype": "text/x-python",
   "name": "python",
   "nbconvert_exporter": "python",
   "pygments_lexer": "ipython3",
   "version": "3.10.9"
  },
  "vscode": {
   "interpreter": {
    "hash": "16d3bdf13fecb92480a65b639a1b920e73a5cd622d987cd1c17fd45eb529f9b8"
   }
  }
 },
 "nbformat": 4,
 "nbformat_minor": 5
}
