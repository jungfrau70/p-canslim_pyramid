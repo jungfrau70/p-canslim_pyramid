{
 "cells": [
  {
   "cell_type": "code",
   "execution_count": 3,
   "id": "0428a3f2-da30-406e-b723-bb6457edf3ec",
   "metadata": {},
   "outputs": [
    {
     "name": "stdout",
     "output_type": "stream",
     "text": [
      "Current working directory: c:\\work\\p-canslim_pyramid\\most_attractive_stocks\n",
      "Current data directory: ['2023-01-17_A.csv', '2023-01-17_AAL.csv', '2023-01-17_AAP.csv', '2023-01-17_AAPL.csv', '2023-01-17_ABBV.csv', '2023-01-17_ABC.csv', '2023-01-17_ABT.csv', '2023-01-17_ACGL.csv', '2023-01-17_ACN.csv', '2023-01-17_ADBE.csv', '2023-01-17_ADI.csv', '2023-01-17_ADM.csv', '2023-01-17_ADP.csv', '2023-01-17_ADSK.csv', '2023-01-17_AEE.csv', '2023-01-17_AEP.csv', '2023-01-17_AES.csv', '2023-01-17_AFL.csv', '2023-01-17_AIG.csv', '2023-01-17_AIZ.csv', '2023-01-17_AJG.csv', '2023-01-17_AKAM.csv', '2023-01-17_ALB.csv', '2023-01-17_ALGN.csv', '2023-01-17_ALK.csv', '2023-01-17_ALL.csv', '2023-01-17_ALLE.csv', '2023-01-17_AMAT.csv', '2023-01-17_AMCR.csv', '2023-01-17_AMD.csv', '2023-01-17_AME.csv', '2023-01-17_AMGN.csv', '2023-01-17_AMP.csv', '2023-01-17_AMT.csv', '2023-01-17_AMZN.csv', '2023-01-17_ANET.csv', '2023-01-17_ANSS.csv', '2023-01-17_AON.csv', '2023-01-17_AOS.csv', '2023-01-17_APA.csv', '2023-01-17_APD.csv', '2023-01-17_APH.csv', '2023-01-17_APTV.csv', '2023-01-17_ARE.csv', '2023-01-17_ATO.csv', '2023-01-17_ATVI.csv', '2023-01-17_AVB.csv', '2023-01-17_AVGO.csv', '2023-01-17_AVY.csv', '2023-01-17_AWK.csv', '2023-01-17_AXP.csv', '2023-01-17_AZO.csv', '2023-01-17_BA.csv', '2023-01-17_BAC.csv', '2023-01-17_BALL.csv', '2023-01-17_BAX.csv', '2023-01-17_BBWI.csv', '2023-01-17_BBY.csv', '2023-01-17_BDX.csv', '2023-01-17_BF-B.csv', '2023-01-17_BIIB.csv', '2023-01-17_BIO.csv', '2023-01-17_BK.csv', '2023-01-17_BKNG.csv', '2023-01-17_BKR.csv', '2023-01-17_BLK.csv', '2023-01-17_BMY.csv', '2023-01-17_BR.csv', '2023-01-17_BRK-B.csv', '2023-01-17_BRO.csv', '2023-01-17_BSX.csv', '2023-01-17_BWA.csv', '2023-01-17_BXP.csv', '2023-01-17_C.csv', '2023-01-17_CAG.csv', '2023-01-17_CAH.csv', '2023-01-17_CARR.csv', '2023-01-17_CAT.csv', '2023-01-17_CB.csv', '2023-01-17_CBOE.csv', '2023-01-17_CBRE.csv', '2023-01-17_CCI.csv', '2023-01-17_CCL.csv', '2023-01-17_CDAY.csv', '2023-01-17_CDNS.csv', '2023-01-17_CDW.csv', '2023-01-17_CE.csv', '2023-01-17_CEG.csv', '2023-01-17_CF.csv', '2023-01-17_CFG.csv', '2023-01-17_CHD.csv', '2023-01-17_CHRW.csv', '2023-01-17_CHTR.csv', '2023-01-17_CI.csv', '2023-01-17_CINF.csv', '2023-01-17_CL.csv', '2023-01-17_CLX.csv', '2023-01-17_CMA.csv', '2023-01-17_CMCSA.csv', '2023-01-17_CME.csv', '2023-01-17_CMG.csv', '2023-01-17_CMI.csv', '2023-01-17_CMS.csv', '2023-01-17_CNC.csv', '2023-01-17_CNP.csv', '2023-01-17_COF.csv', '2023-01-17_COO.csv', '2023-01-17_COP.csv', '2023-01-17_COST.csv', '2023-01-17_CPB.csv', '2023-01-17_CPRT.csv', '2023-01-17_CPT.csv', '2023-01-17_CRL.csv', '2023-01-17_CSCO.csv', '2023-01-17_CSGP.csv', '2023-01-17_CSX.csv', '2023-01-17_CTAS.csv', '2023-01-17_CTLT.csv', '2023-01-17_CTRA.csv', '2023-01-17_CTSH.csv', '2023-01-17_CTVA.csv', '2023-01-17_CVS.csv', '2023-01-17_CVX.csv', '2023-01-17_CZR.csv', '2023-01-17_D.csv', '2023-01-17_DAL.csv', '2023-01-17_DE.csv', '2023-01-17_DFS.csv', '2023-01-17_DG.csv', '2023-01-17_DHI.csv', '2023-01-17_DHR.csv', '2023-01-17_DIS.csv', '2023-01-17_DISH.csv', '2023-01-17_DLR.csv', '2023-01-17_DLTR.csv', '2023-01-17_DOV.csv', '2023-01-17_DOW.csv', '2023-01-17_DPZ.csv', '2023-01-17_DRI.csv', '2023-01-17_DTE.csv', '2023-01-17_DUK.csv', '2023-01-17_DVA.csv', '2023-01-17_DVN.csv', '2023-01-17_DXCM.csv', '2023-01-17_ED.csv', '2023-01-17_FANG.csv', '2023-01-17_GLW.csv', '2023-01-17_GOOG.csv', '2023-01-17_GOOGL.csv', '2023-01-17_KMX.csv', '2023-01-17_KO.csv', '2023-01-17_LNT.csv', '2023-01-17_MMM.csv', '2023-01-17_MO.csv', '2023-01-17_SCHW.csv', '2023-01-17_STZ.csv', '2023-01-17_T.csv', '2023-01-17_TECH.csv', '2023-01-17_WRB.csv', '2023-01-17_XRAY.csv', 'historical', 'SP500_2023-01-16.csv', 'SP500_2023-01-17.csv']\n"
     ]
    }
   ],
   "source": [
    "import os\n",
    "import glob\n",
    "import datetime as dt\n",
    "import numpy as np\n",
    "import pandas as pd\n",
    "import matplotlib.pyplot as plt\n",
    "import yfinance as yf\n",
    "yf.pdr_override() # <== that's all it takes :-)\n",
    "\n",
    "from concurrent import futures\n",
    "from dateutil.relativedelta import relativedelta\n",
    "from pandas_datareader import data as pdr\n",
    "from scipy.stats import gaussian_kde\n",
    "\n",
    "\"\"\" set home directory \"\"\"\n",
    "try: \n",
    "    home_dir\n",
    "except NameError: \n",
    "    home_dir = os.getcwd()\n",
    "\n",
    "os.chdir(home_dir)\n",
    "\n",
    "\"\"\" set working directory \"\"\"\n",
    "# Change the current working directory\n",
    "working_dir = \"./most_attractive_stocks\"\n",
    "os.chdir(working_dir)\n",
    "\n",
    "data_dir = \"../data/historical\"\n",
    "os.makedirs(data_dir, exist_ok=True)\n",
    "\n",
    "# Print the current working directory\n",
    "print(\"Current working directory: {0}\".format(os.getcwd()))\n",
    "print(\"Current data directory: {0}\".format(os.listdir('../data')))/"
   ]
  },
  {
   "cell_type": "code",
   "execution_count": 4,
   "id": "6104eb3d-1387-42ea-b5a1-82a6fb3041a3",
   "metadata": {},
   "outputs": [],
   "source": [
    "\"\"\" datetime util \"\"\"\n",
    "now = dt.datetime.now()\n",
    "lastday = now + relativedelta(months=0, days=-1)\n",
    "firstday_of_this_month = dt.datetime(now.year, now.month, 1)\n",
    "lastday_of_this_month = dt.datetime(now.year, now.month, 1) + relativedelta(months=1, days=-1)\n",
    "firstday_of_last_month = dt.datetime(now.year, now.month, 1) + relativedelta(months=-1, days=0)\n",
    "lastday_of_last_month = dt.datetime(now.year, now.month, 1) + relativedelta(months=0, days=-1)"
   ]
  },
  {
   "cell_type": "code",
   "execution_count": 5,
   "id": "32b2e723-6542-46e3-8788-f4b34087982c",
   "metadata": {},
   "outputs": [],
   "source": [
    "\"\"\" set the download window \"\"\"\n",
    "start_date = \"2017-01-01\"\n",
    "end_date = lastday.strftime('%Y-%m-%d')"
   ]
  },
  {
   "attachments": {},
   "cell_type": "markdown",
   "id": "cca98ff4",
   "metadata": {},
   "source": [
    "# Download Tickers"
   ]
  },
  {
   "cell_type": "code",
   "execution_count": 6,
   "id": "208327e6",
   "metadata": {},
   "outputs": [
    {
     "name": "stdout",
     "output_type": "stream",
     "text": [
      "(503, 9)\n",
      "(503, 9)\n",
      "  Symbol     Security SEC filings             GICS Sector  \\\n",
      "0    MMM           3M     reports             Industrials   \n",
      "1    AOS  A. O. Smith     reports             Industrials   \n",
      "2    ABT       Abbott     reports             Health Care   \n",
      "3   ABBV       AbbVie     reports             Health Care   \n",
      "4    ACN    Accenture     reports  Information Technology   \n",
      "\n",
      "                GICS Sub-Industry    Headquarters Location  Date added  \\\n",
      "0        Industrial Conglomerates    Saint Paul, Minnesota  1976-08-09   \n",
      "1               Building Products     Milwaukee, Wisconsin  2017-07-26   \n",
      "2           Health Care Equipment  North Chicago, Illinois  1964-03-31   \n",
      "3                 Pharmaceuticals  North Chicago, Illinois  2012-12-31   \n",
      "4  IT Consulting & Other Services          Dublin, Ireland  2011-07-06   \n",
      "\n",
      "       CIK      Founded  \n",
      "0    66740         1902  \n",
      "1    91142         1916  \n",
      "2     1800         1888  \n",
      "3  1551152  2013 (1888)  \n",
      "4  1467373         1989  \n"
     ]
    }
   ],
   "source": [
    "tables = pd.read_html('https://en.wikipedia.org/wiki/List_of_S%26P_500_companies')\n",
    "\n",
    "sp500_df = tables[0]\n",
    "second_table = tables[1]\n",
    "print(sp500_df.shape)\n",
    "\n",
    "# rename symbol to escape symbol error\n",
    "sp500_df[\"Symbol\"] = sp500_df[\"Symbol\"].map(lambda x: x.replace(\".\", \"-\"))\n",
    "sp500_df.to_csv(f\"{data_dir}/SP500_{end_date}.csv\", index=False)\n",
    "sp500_df = pd.read_csv(f\"{data_dir}/SP500_{end_date}.csv\")\n",
    "print(sp500_df.shape)\n",
    "sp500_tickers = list(sp500_df[\"Symbol\"])\n",
    "print(sp500_df.head())\n",
    "#print(sp500_tickers)"
   ]
  },
  {
   "cell_type": "markdown",
   "id": "059a6d7b-157c-4f35-8631-ea5234b8fe28",
   "metadata": {},
   "source": [
    "# Find Most Attractive Stocks"
   ]
  },
  {
   "cell_type": "code",
   "execution_count": 7,
   "id": "3cce4da4-2c05-4cc0-800b-4ae5ab6636f1",
   "metadata": {},
   "outputs": [],
   "source": [
    "stock_list = f\"{data_dir}/SP500_{end_date}.csv\""
   ]
  },
  {
   "cell_type": "code",
   "execution_count": 8,
   "id": "5edf8d22-5725-4cf1-b512-53b82725316b",
   "metadata": {},
   "outputs": [
    {
     "name": "stdout",
     "output_type": "stream",
     "text": [
      "../data/historical/SP500_2023-01-17.csv\n"
     ]
    }
   ],
   "source": [
    "!echo $stock_list"
   ]
  },
  {
   "cell_type": "code",
   "execution_count": 9,
   "id": "0bd35745-9851-4b49-8e92-f4e550025013",
   "metadata": {},
   "outputs": [],
   "source": [
    "!python findStocks.py --stock_list $stock_list --key \"P6QVC3IFRGHVKGAN\" --data_folder \"../data/historical\""
   ]
  },
  {
   "cell_type": "code",
   "execution_count": null,
   "id": "f22a9e62-4c71-4818-929b-6b863a8cf125",
   "metadata": {},
   "outputs": [],
   "source": []
  }
 ],
 "metadata": {
  "kernelspec": {
   "display_name": "venv",
   "language": "python",
   "name": "python3"
  },
  "language_info": {
   "codemirror_mode": {
    "name": "ipython",
    "version": 3
   },
   "file_extension": ".py",
   "mimetype": "text/x-python",
   "name": "python",
   "nbconvert_exporter": "python",
   "pygments_lexer": "ipython3",
   "version": "3.10.9"
  },
  "vscode": {
   "interpreter": {
    "hash": "16d3bdf13fecb92480a65b639a1b920e73a5cd622d987cd1c17fd45eb529f9b8"
   }
  }
 },
 "nbformat": 4,
 "nbformat_minor": 5
}
