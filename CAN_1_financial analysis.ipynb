{
 "cells": [
  {
   "cell_type": "code",
   "execution_count": 1,
   "id": "0428a3f2-da30-406e-b723-bb6457edf3ec",
   "metadata": {},
   "outputs": [
    {
     "name": "stdout",
     "output_type": "stream",
     "text": [
      "Current working directory: C:\\work\\p-canslim_pyramid\\most_attractive_stocks\n"
     ]
    }
   ],
   "source": [
    "import os\n",
    "import glob\n",
    "import datetime as dt\n",
    "import numpy as np\n",
    "import pandas as pd\n",
    "import matplotlib.pyplot as plt\n",
    "import yfinance as yf\n",
    "yf.pdr_override() # <== that's all it takes :-)\n",
    "\n",
    "from concurrent import futures\n",
    "from dateutil.relativedelta import relativedelta\n",
    "from pandas_datareader import data as pdr\n",
    "from scipy.stats import gaussian_kde"
   ]
  },
  {
   "cell_type": "code",
   "execution_count": 2,
   "id": "6104eb3d-1387-42ea-b5a1-82a6fb3041a3",
   "metadata": {},
   "outputs": [],
   "source": [
    "\"\"\" datetime util \"\"\"\n",
    "now = dt.datetime.now()\n",
    "lastday = now + relativedelta(months=0, days=-1)\n",
    "firstday_of_this_month = dt.datetime(now.year, now.month, 1)\n",
    "lastday_of_this_month = dt.datetime(now.year, now.month, 1) + relativedelta(months=1, days=-1)\n",
    "firstday_of_last_month = dt.datetime(now.year, now.month, 1) + relativedelta(months=-1, days=0)\n",
    "lastday_of_last_month = dt.datetime(now.year, now.month, 1) + relativedelta(months=0, days=-1)"
   ]
  },
  {
   "cell_type": "code",
   "execution_count": 3,
   "id": "32b2e723-6542-46e3-8788-f4b34087982c",
   "metadata": {},
   "outputs": [],
   "source": [
    "\"\"\" set the download window \"\"\"\n",
    "start_date = \"2017-01-01\"\n",
    "end_date = lastday.strftime('%Y-%m-%d')"
   ]
  },
  {
   "cell_type": "markdown",
   "id": "cca98ff4",
   "metadata": {},
   "source": [
    "# Download Tickers"
   ]
  },
  {
   "cell_type": "code",
   "execution_count": 4,
   "id": "208327e6",
   "metadata": {},
   "outputs": [
    {
     "name": "stdout",
     "output_type": "stream",
     "text": [
      "(503, 9)\n",
      "(503, 9)\n",
      "  Symbol     Security SEC filings             GICS Sector  \\\n",
      "0    MMM           3M     reports             Industrials   \n",
      "1    AOS  A. O. Smith     reports             Industrials   \n",
      "2    ABT       Abbott     reports             Health Care   \n",
      "3   ABBV       AbbVie     reports             Health Care   \n",
      "4    ACN    Accenture     reports  Information Technology   \n",
      "\n",
      "                GICS Sub-Industry    Headquarters Location  Date added  \\\n",
      "0        Industrial Conglomerates    Saint Paul, Minnesota  1976-08-09   \n",
      "1               Building Products     Milwaukee, Wisconsin  2017-07-26   \n",
      "2           Health Care Equipment  North Chicago, Illinois  1964-03-31   \n",
      "3                 Pharmaceuticals  North Chicago, Illinois  2012-12-31   \n",
      "4  IT Consulting & Other Services          Dublin, Ireland  2011-07-06   \n",
      "\n",
      "       CIK      Founded  \n",
      "0    66740         1902  \n",
      "1    91142         1916  \n",
      "2     1800         1888  \n",
      "3  1551152  2013 (1888)  \n",
      "4  1467373         1989  \n"
     ]
    }
   ],
   "source": [
    "tables = pd.read_html('https://en.wikipedia.org/wiki/List_of_S%26P_500_companies')\n",
    "\n",
    "sp500_df = tables[0]\n",
    "second_table = tables[1]\n",
    "print(sp500_df.shape)\n",
    "\n",
    "# rename symbol to escape symbol error\n",
    "sp500_df[\"Symbol\"] = sp500_df[\"Symbol\"].map(lambda x: x.replace(\".\", \"-\"))\n",
    "sp500_df.to_csv(f\"{data_dir}/SP500_{end_date}.csv\", index=False)\n",
    "sp500_df = pd.read_csv(f\"{data_dir}/SP500_{end_date}.csv\")\n",
    "print(sp500_df.shape)\n",
    "sp500_tickers = list(sp500_df[\"Symbol\"])\n",
    "print(sp500_df.head())\n",
    "#print(sp500_tickers)"
   ]
  },
  {
   "cell_type": "markdown",
   "id": "059a6d7b-157c-4f35-8631-ea5234b8fe28",
   "metadata": {},
   "source": [
    "# Find Most Attractive Stocks"
   ]
  },
  {
   "cell_type": "code",
   "execution_count": null,
   "id": "2db94d3a",
   "metadata": {},
   "outputs": [],
   "source": [
    "\n",
    "\"\"\" set home directory \"\"\"\n",
    "try: \n",
    "    home_dir\n",
    "except NameError: \n",
    "    home_dir = os.getcwd()\n",
    "\n",
    "os.chdir(home_dir)\n",
    "\n",
    "\"\"\" set working directory \"\"\"\n",
    "# Change the current working directory\n",
    "working_dir = \"./most_attractive_stocks\"\n",
    "os.chdir(working_dir)\n",
    "\n",
    "data_dir = \"../data/historical\"\n",
    "os.makedirs(data_dir, exist_ok=True)\n",
    "\n",
    "# Print the current working directory\n",
    "print(\"Current working directory: {0}\".format(os.getcwd()))\n",
    "#print(\"Current data directory: {0}\".format(os.listdir('../data')))"
   ]
  },
  {
   "cell_type": "code",
   "execution_count": 5,
   "id": "3cce4da4-2c05-4cc0-800b-4ae5ab6636f1",
   "metadata": {},
   "outputs": [],
   "source": [
    "stock_list = f\"{data_dir}/SP500_{end_date}.csv\""
   ]
  },
  {
   "cell_type": "code",
   "execution_count": 6,
   "id": "5edf8d22-5725-4cf1-b512-53b82725316b",
   "metadata": {},
   "outputs": [
    {
     "name": "stdout",
     "output_type": "stream",
     "text": [
      "../data/historical/SP500_2023-01-18.csv\n"
     ]
    }
   ],
   "source": [
    "!echo $stock_list"
   ]
  },
  {
   "cell_type": "code",
   "execution_count": 7,
   "id": "0bd35745-9851-4b49-8e92-f4e550025013",
   "metadata": {},
   "outputs": [
    {
     "name": "stdout",
     "output_type": "stream",
     "text": [
      ">>> GM\n",
      "\n",
      "[*********************100%***********************]  1 of 1 completed\n"
     ]
    },
    {
     "name": "stderr",
     "output_type": "stream",
     "text": [
      "Traceback (most recent call last):\n",
      "  File \"C:\\work\\p-canslim_pyramid\\most_attractive_stocks\\findStocks.py\", line 202, in <module>\n",
      "    record = testStock(s, dataFolder, flexible, record)\n",
      "  File \"C:\\work\\p-canslim_pyramid\\most_attractive_stocks\\findStocks.py\", line 179, in testStock\n",
      "    record = saveResults(stock, s, stockFile, record)\n",
      "  File \"C:\\work\\p-canslim_pyramid\\most_attractive_stocks\\findStocks.py\", line 147, in saveResults\n",
      "    stock.save()\n",
      "  File \"C:\\work\\p-canslim_pyramid\\most_attractive_stocks\\findStocksClasses.py\", line 412, in save\n",
      "    df = pd.concat([self.reports['q'], self.reports['a']], ignore_index=True)\n",
      "TypeError: list indices must be integers or slices, not str\n"
     ]
    }
   ],
   "source": [
    "!python findStocks/findStocks.py --stock_list \"./data/SP500_2023-01-18.csv\" --data_folder \"./data/financial\" --report_folder \"./report\""
   ]
  }
 ],
 "metadata": {
  "kernelspec": {
   "display_name": "Python 3 (ipykernel)",
   "language": "python",
   "name": "python3"
  },
  "language_info": {
   "codemirror_mode": {
    "name": "ipython",
    "version": 3
   },
   "file_extension": ".py",
   "mimetype": "text/x-python",
   "name": "python",
   "nbconvert_exporter": "python",
   "pygments_lexer": "ipython3",
   "version": "3.10.9 (tags/v3.10.9:1dd9be6, Dec  6 2022, 20:01:21) [MSC v.1934 64 bit (AMD64)]"
  },
  "vscode": {
   "interpreter": {
    "hash": "16d3bdf13fecb92480a65b639a1b920e73a5cd622d987cd1c17fd45eb529f9b8"
   }
  }
 },
 "nbformat": 4,
 "nbformat_minor": 5
}
