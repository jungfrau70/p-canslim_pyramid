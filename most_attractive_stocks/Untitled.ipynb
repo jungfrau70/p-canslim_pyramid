{
 "cells": [
  {
   "cell_type": "code",
   "execution_count": 1,
   "id": "bedf839f-292b-4262-98c8-cea32d343069",
   "metadata": {},
   "outputs": [],
   "source": [
    "import datetime as dt\n",
    "import time\n",
    "\n",
    "from dateutil.relativedelta import relativedelta\n",
    "from concurrent import futures\n",
    "\n",
    "from findStocks import *"
   ]
  },
  {
   "cell_type": "code",
   "execution_count": 2,
   "id": "3790f4ff-bdcc-43ed-9b25-960862ed9bad",
   "metadata": {},
   "outputs": [],
   "source": [
    "# Get user inputs\n",
    "# stockFile, dataFolder, apikey, flexible, record = getInputs()"
   ]
  },
  {
   "cell_type": "code",
   "execution_count": 3,
   "id": "58dafcf3-e6dc-4b82-b963-54fc252ba0d7",
   "metadata": {},
   "outputs": [],
   "source": [
    "now = dt.datetime.now()\n",
    "lastday = now + relativedelta(months=0, days=-2)\n",
    "end_date = lastday.strftime('%Y-%m-%d')"
   ]
  },
  {
   "cell_type": "code",
   "execution_count": 4,
   "id": "a4610a69-95a5-45fa-904a-1cd1f4a524ad",
   "metadata": {},
   "outputs": [],
   "source": [
    "data_dir = \"../data\"\n",
    "stockFile = f\"{data_dir}/SP500_{end_date}.csv\"\n",
    "dataFolder = \"../data/historical\"\n",
    "apikey = \"P6QVC3IFRGHVKGAN\"\n",
    "flexible = \"\""
   ]
  },
  {
   "cell_type": "code",
   "execution_count": 5,
   "id": "3081dd06-f932-4e0e-b79c-518d2dc92743",
   "metadata": {},
   "outputs": [],
   "source": [
    "symbols = getData(stockFile, dataFolder, apikey)"
   ]
  },
  {
   "cell_type": "code",
   "execution_count": null,
   "id": "f8e23336-e955-499c-84e8-4e09b7d3c18c",
   "metadata": {},
   "outputs": [],
   "source": [
    "# Loop through all stocks\n",
    "for s in symbols:\n",
    "    print('>>>', s)\n",
    "\n",
    "    try:\n",
    "        # Initialize Stock object\n",
    "        stock = Stock(s, dataFolder, flexible)\n",
    "\n",
    "        # Run preliminary tests to check if stock is disqualified\n",
    "        preliminaryTests(stock)\n",
    "\n",
    "        # Skip stock if it failed preliminary tests. Update the *Processed.csv\n",
    "        if stock.errorMessage != 'processed':\n",
    "            updateProcessed(stockFile, s, stock.errorMessage)\n",
    "            continue\n",
    "\n",
    "        for r in stock.reports:\n",
    "            # Manage missing data and other inconsistencies in data\n",
    "            manageBadData(stock, r)\n",
    "\n",
    "            # Calculate new metrics and run stock tests\n",
    "            analyzeStock(stock, r)\n",
    "\n",
    "        # Save data and update files\n",
    "        record = saveResults(stock, s, stockFile, record)\n",
    "        \n",
    "        # Assert can occur when all stocks fail preliminary tests\n",
    "        assert record != [], 'No procssed stocks to save to *Results.csv'\n",
    "\n",
    "        # Save the test results for all stocks\n",
    "        columns = [x for x in stock.record.keys()]\n",
    "        saveAll(record, columns)\n",
    "\n",
    "    except:\n",
    "        pass"
   ]
  },
  {
   "cell_type": "code",
   "execution_count": null,
   "id": "0794b7a0-36db-4af1-8be8-78fa77e0720e",
   "metadata": {},
   "outputs": [],
   "source": [
    "# Loop through all stocks\n",
    "for s in symbols:"
   ]
  },
  {
   "cell_type": "code",
   "execution_count": 19,
   "id": "72e5f08a-820f-44c4-a445-bdf5d1dccc64",
   "metadata": {},
   "outputs": [
    {
     "name": "stdout",
     "output_type": "stream",
     "text": [
      "Time: 0.0\n"
     ]
    }
   ],
   "source": [
    "st = time.time()\n",
    "# Option1) MultiTreading\n",
    "# in case a smaller number of stocks than threads was passed in\n",
    "max_workers = 2\n",
    "workers = min(max_workers, len(symbols))\n",
    "\n",
    "with futures.ThreadPoolExecutor(workers) as executor:\n",
    "    for number, record in zip(symbols, executor.map(testStock, symbols, dataFolder, flexible)):\n",
    "        print('%d is record: %s' % (number, record))\n",
    "\n",
    "# Option2) MultiProcessing\n",
    "#with futures.ProcessPoolExecutor() as executor:\n",
    "#    for stock, record in zip(symbols, executor.map(testStock, symbols, dataFolder, flexible)):\n",
    "#        # Assert can occur when all stocks fail preliminary tests\n",
    "#        assert record != [], 'No procssed stocks to save to *Results.csv'\n",
    "\n",
    "#        # Save the test results for all stocks\n",
    "#        columns = [x for x in stock.record.keys()]\n",
    "\n",
    "et = time.time() - st\n",
    "\n",
    "print(f'Time: {et}')\n",
    "# Assert can occur when all stocks fail preliminary tests"
   ]
  },
  {
   "cell_type": "code",
   "execution_count": 11,
   "id": "f832d558-3014-469c-9d84-4b29d71cb18a",
   "metadata": {},
   "outputs": [
    {
     "ename": "NameError",
     "evalue": "name 'columns' is not defined",
     "output_type": "error",
     "traceback": [
      "\u001b[1;31m---------------------------------------------------------------------------\u001b[0m",
      "\u001b[1;31mNameError\u001b[0m                                 Traceback (most recent call last)",
      "Cell \u001b[1;32mIn[11], line 1\u001b[0m\n\u001b[1;32m----> 1\u001b[0m \u001b[43mcolumns\u001b[49m\n",
      "\u001b[1;31mNameError\u001b[0m: name 'columns' is not defined"
     ]
    }
   ],
   "source": [
    "columns"
   ]
  },
  {
   "cell_type": "code",
   "execution_count": null,
   "id": "7252c8e0-4150-4d75-a7c7-a46d451fb14f",
   "metadata": {},
   "outputs": [],
   "source": []
  }
 ],
 "metadata": {
  "kernelspec": {
   "display_name": "Python 3 (ipykernel)",
   "language": "python",
   "name": "python3"
  },
  "language_info": {
   "codemirror_mode": {
    "name": "ipython",
    "version": 3
   },
   "file_extension": ".py",
   "mimetype": "text/x-python",
   "name": "python",
   "nbconvert_exporter": "python",
   "pygments_lexer": "ipython3",
   "version": "3.10.9"
  }
 },
 "nbformat": 4,
 "nbformat_minor": 5
}
