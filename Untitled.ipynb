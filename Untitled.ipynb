{
 "cells": [
  {
   "cell_type": "code",
   "execution_count": 1,
   "id": "74ee464e-08cb-42ee-9ff6-01d76c9ed93b",
   "metadata": {},
   "outputs": [],
   "source": [
    "import yfinance as yf\n",
    "google = yf.Ticker(\"GOOG\")"
   ]
  },
  {
   "cell_type": "code",
   "execution_count": 2,
   "id": "6faa69b7-e0e4-4750-8b96-72b28775b223",
   "metadata": {},
   "outputs": [
    {
     "ename": "AttributeError",
     "evalue": "'Ticker' object has no attribute 'head'",
     "output_type": "error",
     "traceback": [
      "\u001b[1;31m---------------------------------------------------------------------------\u001b[0m",
      "\u001b[1;31mAttributeError\u001b[0m                            Traceback (most recent call last)",
      "Cell \u001b[1;32mIn[2], line 3\u001b[0m\n\u001b[0;32m      1\u001b[0m \u001b[38;5;66;03m#df = google.history(period='1d', interval=\"1m\")\u001b[39;00m\n\u001b[0;32m      2\u001b[0m df \u001b[38;5;241m=\u001b[39m google\n\u001b[1;32m----> 3\u001b[0m \u001b[38;5;28mprint\u001b[39m(\u001b[43mdf\u001b[49m\u001b[38;5;241;43m.\u001b[39;49m\u001b[43mhead\u001b[49m())\n",
      "\u001b[1;31mAttributeError\u001b[0m: 'Ticker' object has no attribute 'head'"
     ]
    }
   ],
   "source": [
    "#df = google.history(period='1d', interval=\"1m\")\n",
    "df = google\n",
    "print(df.head())"
   ]
  },
  {
   "cell_type": "code",
   "execution_count": 3,
   "id": "8b469a84-5f19-4845-8f96-9123b34e8123",
   "metadata": {},
   "outputs": [],
   "source": [
    "import pandas as pd"
   ]
  },
  {
   "cell_type": "code",
   "execution_count": 4,
   "id": "49ca5ffc-ba6a-4836-9b56-29215440e73d",
   "metadata": {},
   "outputs": [],
   "source": [
    "df['날짜'] = pd.to_datetime(df.index).time "
   ]
  },
  {
   "cell_type": "code",
   "execution_count": 5,
   "id": "729fe911-46f5-45bc-973d-e1909b9fc910",
   "metadata": {},
   "outputs": [],
   "source": [
    "df.set_index('날짜', inplace=True) "
   ]
  },
  {
   "cell_type": "code",
   "execution_count": 6,
   "id": "6759cfaa-9c6f-4c7c-8e46-a82f1fd460d2",
   "metadata": {},
   "outputs": [
    {
     "data": {
      "text/html": [
       "<div>\n",
       "<style scoped>\n",
       "    .dataframe tbody tr th:only-of-type {\n",
       "        vertical-align: middle;\n",
       "    }\n",
       "\n",
       "    .dataframe tbody tr th {\n",
       "        vertical-align: top;\n",
       "    }\n",
       "\n",
       "    .dataframe thead th {\n",
       "        text-align: right;\n",
       "    }\n",
       "</style>\n",
       "<table border=\"1\" class=\"dataframe\">\n",
       "  <thead>\n",
       "    <tr style=\"text-align: right;\">\n",
       "      <th></th>\n",
       "      <th>Open</th>\n",
       "      <th>High</th>\n",
       "      <th>Low</th>\n",
       "      <th>Close</th>\n",
       "      <th>Volume</th>\n",
       "      <th>Dividends</th>\n",
       "      <th>Stock Splits</th>\n",
       "    </tr>\n",
       "    <tr>\n",
       "      <th>날짜</th>\n",
       "      <th></th>\n",
       "      <th></th>\n",
       "      <th></th>\n",
       "      <th></th>\n",
       "      <th></th>\n",
       "      <th></th>\n",
       "      <th></th>\n",
       "    </tr>\n",
       "  </thead>\n",
       "  <tbody>\n",
       "    <tr>\n",
       "      <th>09:30:00</th>\n",
       "      <td>91.528000</td>\n",
       "      <td>91.739998</td>\n",
       "      <td>91.449997</td>\n",
       "      <td>91.705002</td>\n",
       "      <td>422720</td>\n",
       "      <td>0.0</td>\n",
       "      <td>0.0</td>\n",
       "    </tr>\n",
       "    <tr>\n",
       "      <th>09:31:00</th>\n",
       "      <td>91.709999</td>\n",
       "      <td>91.790001</td>\n",
       "      <td>91.559998</td>\n",
       "      <td>91.650002</td>\n",
       "      <td>82899</td>\n",
       "      <td>0.0</td>\n",
       "      <td>0.0</td>\n",
       "    </tr>\n",
       "    <tr>\n",
       "      <th>09:32:00</th>\n",
       "      <td>91.630096</td>\n",
       "      <td>91.669998</td>\n",
       "      <td>91.459999</td>\n",
       "      <td>91.470001</td>\n",
       "      <td>83599</td>\n",
       "      <td>0.0</td>\n",
       "      <td>0.0</td>\n",
       "    </tr>\n",
       "    <tr>\n",
       "      <th>09:33:00</th>\n",
       "      <td>91.470001</td>\n",
       "      <td>91.750000</td>\n",
       "      <td>91.360001</td>\n",
       "      <td>91.660004</td>\n",
       "      <td>59514</td>\n",
       "      <td>0.0</td>\n",
       "      <td>0.0</td>\n",
       "    </tr>\n",
       "    <tr>\n",
       "      <th>09:34:00</th>\n",
       "      <td>91.669998</td>\n",
       "      <td>91.750999</td>\n",
       "      <td>91.589996</td>\n",
       "      <td>91.599998</td>\n",
       "      <td>79827</td>\n",
       "      <td>0.0</td>\n",
       "      <td>0.0</td>\n",
       "    </tr>\n",
       "  </tbody>\n",
       "</table>\n",
       "</div>"
      ],
      "text/plain": [
       "               Open       High        Low      Close  Volume  Dividends  \\\n",
       "날짜                                                                        \n",
       "09:30:00  91.528000  91.739998  91.449997  91.705002  422720        0.0   \n",
       "09:31:00  91.709999  91.790001  91.559998  91.650002   82899        0.0   \n",
       "09:32:00  91.630096  91.669998  91.459999  91.470001   83599        0.0   \n",
       "09:33:00  91.470001  91.750000  91.360001  91.660004   59514        0.0   \n",
       "09:34:00  91.669998  91.750999  91.589996  91.599998   79827        0.0   \n",
       "\n",
       "          Stock Splits  \n",
       "날짜                      \n",
       "09:30:00           0.0  \n",
       "09:31:00           0.0  \n",
       "09:32:00           0.0  \n",
       "09:33:00           0.0  \n",
       "09:34:00           0.0  "
      ]
     },
     "execution_count": 6,
     "metadata": {},
     "output_type": "execute_result"
    }
   ],
   "source": [
    "df.head()"
   ]
  },
  {
   "cell_type": "code",
   "execution_count": 7,
   "id": "18ed577b-2214-4fc8-8ae9-641ac44dadbb",
   "metadata": {},
   "outputs": [],
   "source": [
    "X = df.index.values\n",
    "y = df['Low'].values\n",
    "# The split point is the 10% of the dataframe length\n",
    "offset = int(0.10*len(df))\n",
    "X_train = X[:-offset]\n",
    "y_train = y[:-offset]\n",
    "X_test  = X[-offset:]\n",
    "y_test  = y[-offset:]"
   ]
  },
  {
   "cell_type": "code",
   "execution_count": 10,
   "id": "3a08a2c1-dba3-4018-8792-bd759650113d",
   "metadata": {},
   "outputs": [
    {
     "data": {
      "image/png": "[encoded data removed]",
      "text/plain": [
       "<Figure size 640x480 with 1 Axes>"
      ]
     },
     "metadata": {},
     "output_type": "display_data"
    }
   ],
   "source": [
    "import matplotlib.pyplot as plt\n",
    "plt.plot(range(0,len(y_train)),y_train, label='Train')\n",
    "plt.plot(range(len(y_train),len(y)),y_test,label='Test')\n",
    "plt.legend()\n",
    "plt.show()"
   ]
  },
  {
   "cell_type": "code",
   "execution_count": 9,
   "id": "696acd4d-fb89-4e1c-8293-3e398445bd57",
   "metadata": {},
   "outputs": [
    {
     "data": {
      "text/plain": [
       "'go_candle1.html'"
      ]
     },
     "execution_count": 9,
     "metadata": {},
     "output_type": "execute_result"
    }
   ],
   "source": [
    "from plotly.offline import plot\n",
    "import plotly.graph_objs as go\n",
    "\n",
    "df = pd.read_csv('./output.csv')\n",
    "\n",
    "o = df['open'].astype(float)\n",
    "h = df['high'].astype(float)\n",
    "l = df['low'].astype(float)\n",
    "c = df['close'].astype(float)\n",
    "\n",
    "trace = go.Candlestick(\n",
    "            open=o,\n",
    "            high=h,\n",
    "            low=l,\n",
    "            close=c)\n",
    "data = [trace]\n",
    "plot(data, filename='go_candle1.html')"
   ]
  },
  {
   "cell_type": "code",
   "execution_count": null,
   "id": "a2b39360-1a6d-475b-a647-bbee8af01913",
   "metadata": {},
   "outputs": [],
   "source": []
  }
 ],
 "metadata": {
  "kernelspec": {
   "display_name": "Python 3 (ipykernel)",
   "language": "python",
   "name": "python3"
  },
  "language_info": {
   "codemirror_mode": {
    "name": "ipython",
    "version": 3
   },
   "file_extension": ".py",
   "mimetype": "text/x-python",
   "name": "python",
   "nbconvert_exporter": "python",
   "pygments_lexer": "ipython3",
   "version": "3.10.9"
  }
 },
 "nbformat": 4,
 "nbformat_minor": 5
}
