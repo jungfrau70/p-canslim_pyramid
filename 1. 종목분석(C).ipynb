{
 "cells": [
  {
   "cell_type": "code",
   "execution_count": null,
   "id": "0428a3f2-da30-406e-b723-bb6457edf3ec",
   "metadata": {},
   "outputs": [],
   "source": []
  },
  {
   "cell_type": "code",
   "execution_count": null,
   "id": "83ae4f1f-adbe-40dc-b83b-1275f6c918e7",
   "metadata": {},
   "outputs": [],
   "source": [
    "!python findStocks.py --stock_list \"./SP500_2023-01-05.csv\" --key \"P6QVC3IFRGHVKGAN\""
   ]
  },
  {
   "cell_type": "code",
   "execution_count": null,
   "id": "f22a9e62-4c71-4818-929b-6b863a8cf125",
   "metadata": {},
   "outputs": [],
   "source": []
  }
 ],
 "metadata": {
  "kernelspec": {
   "display_name": "venv",
   "language": "python",
   "name": "python3"
  },
  "language_info": {
   "codemirror_mode": {
    "name": "ipython",
    "version": 3
   },
   "file_extension": ".py",
   "mimetype": "text/x-python",
   "name": "python",
   "nbconvert_exporter": "python",
   "pygments_lexer": "ipython3",
   "version": "3.10.5 (tags/v3.10.5:f377153, Jun  6 2022, 16:14:13) [MSC v.1929 64 bit (AMD64)]"
  },
  "vscode": {
   "interpreter": {
    "hash": "24676f0744b5e48d2c821389f1ac0377c08ed9314d164825b8f264470ef33595"
   }
  }
 },
 "nbformat": 4,
 "nbformat_minor": 5
}
