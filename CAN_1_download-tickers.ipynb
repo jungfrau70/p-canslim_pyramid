{
 "cells": [
  {
   "cell_type": "code",
   "execution_count": 1,
   "id": "b23ec3a5-3e44-43ac-adb5-dd9ee5ea07c0",
   "metadata": {},
   "outputs": [],
   "source": [
    "import os\n",
    "import glob\n",
    "import datetime as dt\n",
    "import numpy as np\n",
    "import pandas as pd\n",
    "import matplotlib.pyplot as plt\n",
    "import yfinance as yf\n",
    "yf.pdr_override() # <== that's all it takes :-)\n",
    "\n",
    "from concurrent import futures\n",
    "from dateutil.relativedelta import relativedelta\n",
    "from pandas_datareader import data as pdr\n",
    "from scipy.stats import gaussian_kde\n",
    "\n",
    "\"\"\" set output directory \"\"\"\n",
    "data_dir = \"./data\"\n",
    "os.makedirs(data_dir, exist_ok=True)"
   ]
  },
  {
   "cell_type": "code",
   "execution_count": 2,
   "id": "82b93e0c-e504-48fd-8124-e4555cb82aef",
   "metadata": {},
   "outputs": [],
   "source": [
    "\"\"\" datetime util \"\"\"\n",
    "now = dt.datetime.now()\n",
    "lastday = now + relativedelta(months=0, days=-1)\n",
    "firstday_of_this_month = dt.datetime(now.year, now.month, 1)\n",
    "lastday_of_this_month = dt.datetime(now.year, now.month, 1) + relativedelta(months=1, days=-1)\n",
    "firstday_of_last_month = dt.datetime(now.year, now.month, 1) + relativedelta(months=-1, days=0)\n",
    "lastday_of_last_month = dt.datetime(now.year, now.month, 1) + relativedelta(months=0, days=-1)"
   ]
  },
  {
   "cell_type": "code",
   "execution_count": 3,
   "id": "42077b1e-b5a4-46d6-aeb5-666a0a64986d",
   "metadata": {},
   "outputs": [],
   "source": [
    "\"\"\" set the download window \"\"\"\n",
    "start_date = \"2017-01-01\"\n",
    "end_date = lastday.strftime('%Y-%m-%d')"
   ]
  },
  {
   "cell_type": "markdown",
   "id": "0fcfc7f2-4ac5-48f0-a006-a3d40cd53e5c",
   "metadata": {
    "tags": []
   },
   "source": [
    "# Downloading"
   ]
  },
  {
   "cell_type": "code",
   "execution_count": 4,
   "id": "eaa075ff-2046-4249-8b95-8519680dc05c",
   "metadata": {},
   "outputs": [
    {
     "name": "stdout",
     "output_type": "stream",
     "text": [
      "(503, 8)\n",
      "(503, 8)\n",
      "  Symbol     Security             GICS Sector               GICS Sub-Industry  \\\n",
      "0    MMM           3M             Industrials        Industrial Conglomerates   \n",
      "1    AOS  A. O. Smith             Industrials               Building Products   \n",
      "2    ABT       Abbott             Health Care           Health Care Equipment   \n",
      "3   ABBV       AbbVie             Health Care                 Pharmaceuticals   \n",
      "4    ACN    Accenture  Information Technology  IT Consulting & Other Services   \n",
      "\n",
      "     Headquarters Location  Date added      CIK      Founded  \n",
      "0    Saint Paul, Minnesota  1957-03-04    66740         1902  \n",
      "1     Milwaukee, Wisconsin  2017-07-26    91142         1916  \n",
      "2  North Chicago, Illinois  1957-03-04     1800         1888  \n",
      "3  North Chicago, Illinois  2012-12-31  1551152  2013 (1888)  \n",
      "4          Dublin, Ireland  2011-07-06  1467373         1989  \n"
     ]
    }
   ],
   "source": [
    "tables = pd.read_html('https://en.wikipedia.org/wiki/List_of_S%26P_500_companies')\n",
    "\n",
    "sp500_df = tables[0]\n",
    "second_table = tables[1]\n",
    "print(sp500_df.shape)\n",
    "\n",
    "# rename symbol to escape symbol error\n",
    "sp500_df[\"Symbol\"] = sp500_df[\"Symbol\"].map(lambda x: x.replace(\".\", \"-\"))\n",
    "sp500_df.to_csv(f\"{data_dir}/SP500_{end_date}.csv\", index=False)\n",
    "sp500_df = pd.read_csv(f\"{data_dir}/SP500_{end_date}.csv\")\n",
    "print(sp500_df.shape)\n",
    "sp500_tickers = list(sp500_df[\"Symbol\"])\n",
    "print(sp500_df.head())\n",
    "#print(sp500_tickers)"
   ]
  },
  {
   "cell_type": "code",
   "execution_count": null,
   "id": "8731ae91-6954-4f1b-a300-e5f6e1b555ee",
   "metadata": {},
   "outputs": [],
   "source": []
  },
  {
   "cell_type": "code",
   "execution_count": null,
   "id": "f7cde336-8e78-41df-9332-e661c009f4dc",
   "metadata": {},
   "outputs": [],
   "source": []
  },
  {
   "cell_type": "code",
   "execution_count": null,
   "id": "922891d8-b627-4601-b4c6-c4b5445b49ed",
   "metadata": {},
   "outputs": [],
   "source": []
  },
  {
   "cell_type": "code",
   "execution_count": null,
   "id": "9ed91fa1-6c51-4001-bbed-00b3ee35cff4",
   "metadata": {},
   "outputs": [],
   "source": []
  },
  {
   "cell_type": "code",
   "execution_count": null,
   "id": "481d8869-2d31-4a29-8901-60e3b33f6558",
   "metadata": {},
   "outputs": [],
   "source": []
  },
  {
   "cell_type": "code",
   "execution_count": null,
   "id": "d574d542-cd27-47a4-8167-f1a16861486a",
   "metadata": {},
   "outputs": [],
   "source": []
  },
  {
   "cell_type": "code",
   "execution_count": null,
   "id": "d1646682-4f51-4753-a79f-e056b5a23973",
   "metadata": {},
   "outputs": [],
   "source": []
  },
  {
   "cell_type": "code",
   "execution_count": 5,
   "id": "6774ff86-6579-4c36-8585-0d2e75de8735",
   "metadata": {},
   "outputs": [
    {
     "ename": "NameError",
     "evalue": "name 'df' is not defined",
     "output_type": "error",
     "traceback": [
      "\u001b[0;31m---------------------------------------------------------------------------\u001b[0m",
      "\u001b[0;31mNameError\u001b[0m                                 Traceback (most recent call last)",
      "Cell \u001b[0;32mIn[5], line 1\u001b[0m\n\u001b[0;32m----> 1\u001b[0m \u001b[43mdf\u001b[49m\u001b[38;5;241m.\u001b[39msort_values(\u001b[38;5;124m\"\u001b[39m\u001b[38;5;124mhighest_day\u001b[39m\u001b[38;5;124m\"\u001b[39m, ascending\u001b[38;5;241m=\u001b[39m\u001b[38;5;28;01mFalse\u001b[39;00m)\u001b[38;5;241m.\u001b[39mhead(\u001b[38;5;241m20\u001b[39m)\n",
      "\u001b[0;31mNameError\u001b[0m: name 'df' is not defined"
     ]
    }
   ],
   "source": [
    "df.sort_values(\"highest_day\", ascending=False).head(20)"
   ]
  },
  {
   "cell_type": "code",
   "execution_count": null,
   "id": "03b57e16-6ad8-486b-ae03-cf82cf48400a",
   "metadata": {},
   "outputs": [],
   "source": [
    "industry_value_counts = df[df[\"highest_day\"] >= \"2022-12-01\"][\"GICS Sub-Industry\"].value_counts()\n",
    "fig, ax = plt.subplots(figsize=(20, 8))\n",
    "ax.bar(industry_value_counts.index, industry_value_counts.values)\n",
    "ax.set_xticklabels(industry_value_counts.index, rotation=90)\n",
    "ax.set_xlabel(\"industry\")\n",
    "ax.set_ylabel(\"number of stocks\")\n",
    "plt.show()"
   ]
  },
  {
   "cell_type": "code",
   "execution_count": null,
   "id": "b78ad379-bdef-4600-98d4-b47a98b6495c",
   "metadata": {},
   "outputs": [],
   "source": [
    "industry_value_counts[industry_value_counts.index.str.contains(\"Packaged Foods & Meats\")]"
   ]
  },
  {
   "cell_type": "code",
   "execution_count": null,
   "id": "5abf2563-0e44-41bd-8844-f33018b79e53",
   "metadata": {},
   "outputs": [],
   "source": [
    "highest_day_count = df.groupby(\"highest_month\").count()\n",
    "highest_day_count[\"ticker\"].plot()\n",
    "plt.title(\"Number of stocks that reached new highs\")\n",
    "plt.ylabel(\"number of stocks\")\n",
    "plt.show()"
   ]
  },
  {
   "cell_type": "code",
   "execution_count": null,
   "id": "5ce870a4-0a11-493d-ac02-c9e5443fda68",
   "metadata": {},
   "outputs": [],
   "source": [
    "highest_day_count[\"ticker\"].plot(marker=\".\")\n",
    "plt.grid(axis='y')\n",
    "plt.title(\"Number of stocks that reached new highs\")\n",
    "plt.xlim(\"2019-01-01\", \"2022-12-30\")\n",
    "plt.ylabel(\"number of stocks\")\n",
    "plt.show()"
   ]
  },
  {
   "cell_type": "code",
   "execution_count": null,
   "id": "af1c4361-a0ef-4ced-8fbc-668a4ebb9f11",
   "metadata": {},
   "outputs": [],
   "source": [
    "ticker_list = [\"GOOG\", \"AAPL\", \"FB\", \"AMZN\", \"MSFT\", \"TSLA\", \"NVDA\"]\n",
    "df[df[\"ticker\"].isin(ticker_list)]"
   ]
  },
  {
   "cell_type": "code",
   "execution_count": null,
   "id": "7b61c5e0-f4bc-4872-a2e4-0120343e4300",
   "metadata": {
    "tags": []
   },
   "outputs": [],
   "source": [
    "industry_value_counts = df[df[\"highest_day\"] <= \"2021-12"
   ]
  }
 ],
 "metadata": {
  "kernelspec": {
   "display_name": "Python 3 (ipykernel)",
   "language": "python",
   "name": "python3"
  },
  "language_info": {
   "codemirror_mode": {
    "name": "ipython",
    "version": 3
   },
   "file_extension": ".py",
   "mimetype": "text/x-python",
   "name": "python",
   "nbconvert_exporter": "python",
   "pygments_lexer": "ipython3",
   "version": "3.10.6"
  },
  "vscode": {
   "interpreter": {
    "hash": "16d3bdf13fecb92480a65b639a1b920e73a5cd622d987cd1c17fd45eb529f9b8"
   }
  }
 },
 "nbformat": 4,
 "nbformat_minor": 5
}
